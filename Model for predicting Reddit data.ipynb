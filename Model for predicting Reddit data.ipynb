{
 "cells": [
  {
   "cell_type": "markdown",
   "metadata": {},
   "source": [
    "# Modeling reddit comment score\n"
   ]
  },
  {
   "cell_type": "markdown",
   "metadata": {},
   "source": [
    "Feature selection\n",
    " "
   ]
  },
  {
   "cell_type": "raw",
   "metadata": {},
   "source": [
    " We will be extracting some features that might be useful for this "
   ]
  },
  {
   "cell_type": "code",
   "execution_count": 122,
   "metadata": {
    "collapsed": true
   },
   "outputs": [],
   "source": [
    "%matplotlib inline\n",
    "import numpy as np\n",
    "import scipy as sp\n",
    "import matplotlib as mpl\n",
    "import matplotlib.cm as cm\n",
    "import matplotlib.pyplot as plt\n",
    "import pandas as pd\n",
    "pd.set_option('display.width', 500)\n",
    "pd.set_option('display.max_columns', 100)\n",
    "pd.set_option('display.notebook_repr_html', True)\n",
    "import seaborn as sns\n",
    "sns.set_style(\"whitegrid\")\n",
    "sns.set_context(\"poster\")\n",
    "import nltk"
   ]
  },
  {
   "cell_type": "code",
   "execution_count": 123,
   "metadata": {
    "collapsed": false
   },
   "outputs": [
    {
     "data": {
      "text/html": [
       "<div>\n",
       "<table border=\"1\" class=\"dataframe\">\n",
       "  <thead>\n",
       "    <tr style=\"text-align: right;\">\n",
       "      <th></th>\n",
       "      <th>author</th>\n",
       "      <th>body</th>\n",
       "      <th>body_html</th>\n",
       "      <th>controversiality</th>\n",
       "      <th>created</th>\n",
       "      <th>created_utc</th>\n",
       "      <th>distinguished</th>\n",
       "      <th>downs</th>\n",
       "      <th>edited</th>\n",
       "      <th>gilded</th>\n",
       "      <th>id</th>\n",
       "      <th>likes</th>\n",
       "      <th>link_id</th>\n",
       "      <th>name</th>\n",
       "      <th>num_reports</th>\n",
       "      <th>parent_id</th>\n",
       "      <th>replies</th>\n",
       "      <th>score</th>\n",
       "      <th>subreddit</th>\n",
       "      <th>ups</th>\n",
       "    </tr>\n",
       "  </thead>\n",
       "  <tbody>\n",
       "    <tr>\n",
       "      <th>0</th>\n",
       "      <td>Voerendaalse</td>\n",
       "      <td>&amp;gt; Subsequent validation using a separate va...</td>\n",
       "      <td>&amp;lt;div class=\"md\"&amp;gt;&amp;lt;blockquote&amp;gt;\\n&amp;lt;...</td>\n",
       "      <td>0</td>\n",
       "      <td>1446262140</td>\n",
       "      <td>1446233340</td>\n",
       "      <td>NaN</td>\n",
       "      <td>0</td>\n",
       "      <td>1446234176.0</td>\n",
       "      <td>0</td>\n",
       "      <td>cwipf39</td>\n",
       "      <td>NaN</td>\n",
       "      <td>t3_3qvj7a</td>\n",
       "      <td>t1_cwipf39</td>\n",
       "      <td>NaN</td>\n",
       "      <td>t3_3qvj7a</td>\n",
       "      <td>{u'kind': u'Listing', u'data': {u'modhash': No...</td>\n",
       "      <td>1685</td>\n",
       "      <td>science</td>\n",
       "      <td>1685</td>\n",
       "    </tr>\n",
       "    <tr>\n",
       "      <th>1</th>\n",
       "      <td>Bloomsey</td>\n",
       "      <td>Peer-reviewed article: http://www.cell.com/can...</td>\n",
       "      <td>&amp;lt;div class=\"md\"&amp;gt;&amp;lt;p&amp;gt;Peer-reviewed a...</td>\n",
       "      <td>0</td>\n",
       "      <td>1446260748</td>\n",
       "      <td>1446231948</td>\n",
       "      <td>NaN</td>\n",
       "      <td>0</td>\n",
       "      <td>False</td>\n",
       "      <td>0</td>\n",
       "      <td>cwiohv5</td>\n",
       "      <td>False</td>\n",
       "      <td>t3_3qvj7a</td>\n",
       "      <td>t1_cwiohv5</td>\n",
       "      <td>NaN</td>\n",
       "      <td>t3_3qvj7a</td>\n",
       "      <td>{u'kind': u'Listing', u'data': {u'modhash': No...</td>\n",
       "      <td>660</td>\n",
       "      <td>science</td>\n",
       "      <td>660</td>\n",
       "    </tr>\n",
       "    <tr>\n",
       "      <th>2</th>\n",
       "      <td>schnupfndrache7</td>\n",
       "      <td>is this as revolutionary as it sounds?</td>\n",
       "      <td>&amp;lt;div class=\"md\"&amp;gt;&amp;lt;p&amp;gt;is this as revo...</td>\n",
       "      <td>0</td>\n",
       "      <td>1446264074</td>\n",
       "      <td>1446235274</td>\n",
       "      <td>NaN</td>\n",
       "      <td>0</td>\n",
       "      <td>False</td>\n",
       "      <td>0</td>\n",
       "      <td>cwiqorg</td>\n",
       "      <td>NaN</td>\n",
       "      <td>t3_3qvj7a</td>\n",
       "      <td>t1_cwiqorg</td>\n",
       "      <td>NaN</td>\n",
       "      <td>t3_3qvj7a</td>\n",
       "      <td>{u'kind': u'Listing', u'data': {u'modhash': No...</td>\n",
       "      <td>275</td>\n",
       "      <td>science</td>\n",
       "      <td>275</td>\n",
       "    </tr>\n",
       "    <tr>\n",
       "      <th>3</th>\n",
       "      <td>geoffp82</td>\n",
       "      <td>And then what? Full body MRI?</td>\n",
       "      <td>&amp;lt;div class=\"md\"&amp;gt;&amp;lt;p&amp;gt;And then what? ...</td>\n",
       "      <td>0</td>\n",
       "      <td>1446262287</td>\n",
       "      <td>1446233487</td>\n",
       "      <td>NaN</td>\n",
       "      <td>0</td>\n",
       "      <td>False</td>\n",
       "      <td>0</td>\n",
       "      <td>cwipio1</td>\n",
       "      <td>NaN</td>\n",
       "      <td>t3_3qvj7a</td>\n",
       "      <td>t1_cwipio1</td>\n",
       "      <td>NaN</td>\n",
       "      <td>t3_3qvj7a</td>\n",
       "      <td>{u'kind': u'Listing', u'data': {u'modhash': No...</td>\n",
       "      <td>64</td>\n",
       "      <td>science</td>\n",
       "      <td>64</td>\n",
       "    </tr>\n",
       "    <tr>\n",
       "      <th>4</th>\n",
       "      <td>momoneymoproblemss</td>\n",
       "      <td>Is it weird I would like to take this test on ...</td>\n",
       "      <td>&amp;lt;div class=\"md\"&amp;gt;&amp;lt;p&amp;gt;Is it weird I w...</td>\n",
       "      <td>0</td>\n",
       "      <td>1446263469</td>\n",
       "      <td>1446234669</td>\n",
       "      <td>NaN</td>\n",
       "      <td>0</td>\n",
       "      <td>False</td>\n",
       "      <td>0</td>\n",
       "      <td>cwiqags</td>\n",
       "      <td>NaN</td>\n",
       "      <td>t3_3qvj7a</td>\n",
       "      <td>t1_cwiqags</td>\n",
       "      <td>NaN</td>\n",
       "      <td>t3_3qvj7a</td>\n",
       "      <td>{u'kind': u'Listing', u'data': {u'modhash': No...</td>\n",
       "      <td>131</td>\n",
       "      <td>science</td>\n",
       "      <td>131</td>\n",
       "    </tr>\n",
       "  </tbody>\n",
       "</table>\n",
       "</div>"
      ],
      "text/plain": [
       "               author                                               body                                          body_html  controversiality     created  created_utc distinguished downs        edited gilded       id  likes    link_id        name num_reports  parent_id                                            replies score subreddit   ups\n",
       "0        Voerendaalse  &gt; Subsequent validation using a separate va...  &lt;div class=\"md\"&gt;&lt;blockquote&gt;\\n&lt;...                 0  1446262140   1446233340           NaN     0  1446234176.0      0  cwipf39    NaN  t3_3qvj7a  t1_cwipf39         NaN  t3_3qvj7a  {u'kind': u'Listing', u'data': {u'modhash': No...  1685   science  1685\n",
       "1            Bloomsey  Peer-reviewed article: http://www.cell.com/can...  &lt;div class=\"md\"&gt;&lt;p&gt;Peer-reviewed a...                 0  1446260748   1446231948           NaN     0         False      0  cwiohv5  False  t3_3qvj7a  t1_cwiohv5         NaN  t3_3qvj7a  {u'kind': u'Listing', u'data': {u'modhash': No...   660   science   660\n",
       "2     schnupfndrache7             is this as revolutionary as it sounds?  &lt;div class=\"md\"&gt;&lt;p&gt;is this as revo...                 0  1446264074   1446235274           NaN     0         False      0  cwiqorg    NaN  t3_3qvj7a  t1_cwiqorg         NaN  t3_3qvj7a  {u'kind': u'Listing', u'data': {u'modhash': No...   275   science   275\n",
       "3            geoffp82                      And then what? Full body MRI?  &lt;div class=\"md\"&gt;&lt;p&gt;And then what? ...                 0  1446262287   1446233487           NaN     0         False      0  cwipio1    NaN  t3_3qvj7a  t1_cwipio1         NaN  t3_3qvj7a  {u'kind': u'Listing', u'data': {u'modhash': No...    64   science    64\n",
       "4  momoneymoproblemss  Is it weird I would like to take this test on ...  &lt;div class=\"md\"&gt;&lt;p&gt;Is it weird I w...                 0  1446263469   1446234669           NaN     0         False      0  cwiqags    NaN  t3_3qvj7a  t1_cwiqags         NaN  t3_3qvj7a  {u'kind': u'Listing', u'data': {u'modhash': No...   131   science   131"
      ]
     },
     "execution_count": 123,
     "metadata": {},
     "output_type": "execute_result"
    }
   ],
   "source": [
    "df=pd.read_csv(\"training_comments.csv\")\n",
    "df.head()"
   ]
  },
  {
   "cell_type": "code",
   "execution_count": 124,
   "metadata": {
    "collapsed": false
   },
   "outputs": [
    {
     "data": {
      "text/plain": [
       "(109982, 20)"
      ]
     },
     "execution_count": 124,
     "metadata": {},
     "output_type": "execute_result"
    }
   ],
   "source": [
    "df.shape"
   ]
  },
  {
   "cell_type": "markdown",
   "metadata": {},
   "source": [
    "## We clean the datahere and get rid of any data with 'nan' in submission time"
   ]
  },
  {
   "cell_type": "code",
   "execution_count": 125,
   "metadata": {
    "collapsed": true
   },
   "outputs": [],
   "source": [
    "missing_index = df['created_utc'].index[df['created_utc'].apply(np.isnan)]"
   ]
  },
  {
   "cell_type": "code",
   "execution_count": 126,
   "metadata": {
    "collapsed": false
   },
   "outputs": [
    {
     "data": {
      "text/plain": [
       "Int64Index([3721, 3722, 34590, 34591, 38170, 38171, 40303, 40304, 59028, 59029, 59030, 60336, 60337, 69971, 69972, 78711, 78712, 85772, 85773, 85774, 85775, 86773, 86774, 87189, 87190, 91818, 91819, 91973, 91974, 93877, 93878, 94071, 94072], dtype='int64')"
      ]
     },
     "execution_count": 126,
     "metadata": {},
     "output_type": "execute_result"
    }
   ],
   "source": [
    "missing_index"
   ]
  },
  {
   "cell_type": "code",
   "execution_count": 127,
   "metadata": {
    "collapsed": false
   },
   "outputs": [],
   "source": [
    "#Drop all the values that have nan inside \n",
    "list1 = []\n",
    "for index in missing_index:\n",
    "    list1.append(index)"
   ]
  },
  {
   "cell_type": "code",
   "execution_count": 128,
   "metadata": {
    "collapsed": false
   },
   "outputs": [],
   "source": [
    "df = df.drop(df.index[list1])"
   ]
  },
  {
   "cell_type": "code",
   "execution_count": 129,
   "metadata": {
    "collapsed": false
   },
   "outputs": [
    {
     "data": {
      "text/plain": [
       "(109949, 20)"
      ]
     },
     "execution_count": 129,
     "metadata": {},
     "output_type": "execute_result"
    }
   ],
   "source": [
    "df.shape"
   ]
  },
  {
   "cell_type": "markdown",
   "metadata": {},
   "source": [
    "## Feature Engineering\n",
    "\n",
    "We added the following features from the comment data\n",
    "\n",
    "1.)*com_len* - Length of comment \n",
    "\n",
    "2.) *word_num* - number of words \n",
    "\n",
    "3.)number of swear words  - swear_num\n",
    "\n",
    "4.)Sentiment Analysis score (to be added soon) - Sentiment \n",
    "\n",
    "5.)tokenized sentence  - token \n",
    "\n",
    "6.) time of submissions - redivided into 10 min intervals \n",
    "\n",
    "7.) lem - lemminized and cleaned up texts\n",
    "\n",
    "8.) over100 -  1 if over 100 upvote score"
   ]
  },
  {
   "cell_type": "code",
   "execution_count": 130,
   "metadata": {
    "collapsed": true
   },
   "outputs": [],
   "source": [
    "#Function to tokenize comments\n",
    "from nltk.tokenize import RegexpTokenizer\n",
    "def tokenize(comment):\n",
    "    tokenizer = RegexpTokenizer(r'\\w+')\n",
    "    return tokenizer.tokenize(str(comment))\n",
    "#Function to calculate length of comment\n",
    "def len_com(comment):\n",
    "    return len(str(comment))\n",
    "#function to calculate number of words\n",
    "def word_num(token):\n",
    "    return len(token)\n",
    "\n",
    "\n",
    "import re\n",
    "import string\n",
    "regex = re.compile('[%s]' % re.escape(string.punctuation)) #see documentation here: http://docs.python.org/2/library/string.html\n",
    "\n",
    "no_punctuation = []\n",
    "def r\n",
    "for review in tokenized_docs:\n",
    "    \n",
    "    new_review = []\n",
    "    for token in review: \n",
    "        new_token = regex.sub(u'', token)\n",
    "        if not new_token == u'':\n",
    "            new_review.append(new_token)\n",
    "    \n",
    "    tokenized_docs_no_punctuation.append(new_review)\n",
    "    \n",
    "print tokenized_docs_no_punctuation"
   ]
  },
  {
   "cell_type": "code",
   "execution_count": 152,
   "metadata": {
    "collapsed": false
   },
   "outputs": [],
   "source": [
    "#function for telling whether over 100 upvote or not\n",
    "def over100(upvote):\n",
    "    if upvote > 100:\n",
    "        return 1\n",
    "    else:\n",
    "        return 0"
   ]
  },
  {
   "cell_type": "markdown",
   "metadata": {},
   "source": [
    "We add the new columns here"
   ]
  },
  {
   "cell_type": "code",
   "execution_count": 153,
   "metadata": {
    "collapsed": false
   },
   "outputs": [],
   "source": [
    "df['com_len'] = df.body.apply(len_com)\n",
    "df['token'] = df.body.apply(tokenize)\n",
    "df['word_num'] = df.token.apply(word_num)\n",
    "df['over100'] = df.ups.apply(over100)"
   ]
  },
  {
   "cell_type": "code",
   "execution_count": 154,
   "metadata": {
    "collapsed": false
   },
   "outputs": [
    {
     "data": {
      "text/html": [
       "<div>\n",
       "<table border=\"1\" class=\"dataframe\">\n",
       "  <thead>\n",
       "    <tr style=\"text-align: right;\">\n",
       "      <th></th>\n",
       "      <th>author</th>\n",
       "      <th>body</th>\n",
       "      <th>body_html</th>\n",
       "      <th>controversiality</th>\n",
       "      <th>created</th>\n",
       "      <th>created_utc</th>\n",
       "      <th>distinguished</th>\n",
       "      <th>downs</th>\n",
       "      <th>edited</th>\n",
       "      <th>gilded</th>\n",
       "      <th>id</th>\n",
       "      <th>likes</th>\n",
       "      <th>link_id</th>\n",
       "      <th>name</th>\n",
       "      <th>num_reports</th>\n",
       "      <th>parent_id</th>\n",
       "      <th>replies</th>\n",
       "      <th>score</th>\n",
       "      <th>subreddit</th>\n",
       "      <th>ups</th>\n",
       "      <th>com_len</th>\n",
       "      <th>token</th>\n",
       "      <th>word_num</th>\n",
       "      <th>time</th>\n",
       "      <th>over100</th>\n",
       "    </tr>\n",
       "  </thead>\n",
       "  <tbody>\n",
       "    <tr>\n",
       "      <th>0</th>\n",
       "      <td>Voerendaalse</td>\n",
       "      <td>&amp;gt; Subsequent validation using a separate va...</td>\n",
       "      <td>&amp;lt;div class=\"md\"&amp;gt;&amp;lt;blockquote&amp;gt;\\n&amp;lt;...</td>\n",
       "      <td>0</td>\n",
       "      <td>1446262140</td>\n",
       "      <td>1446233340</td>\n",
       "      <td>NaN</td>\n",
       "      <td>0</td>\n",
       "      <td>1446234176.0</td>\n",
       "      <td>0</td>\n",
       "      <td>cwipf39</td>\n",
       "      <td>NaN</td>\n",
       "      <td>t3_3qvj7a</td>\n",
       "      <td>t1_cwipf39</td>\n",
       "      <td>NaN</td>\n",
       "      <td>t3_3qvj7a</td>\n",
       "      <td>{u'kind': u'Listing', u'data': {u'modhash': No...</td>\n",
       "      <td>1685</td>\n",
       "      <td>science</td>\n",
       "      <td>1685</td>\n",
       "      <td>1083</td>\n",
       "      <td>[gt, Subsequent, validation, using, a, separat...</td>\n",
       "      <td>198</td>\n",
       "      <td>93</td>\n",
       "      <td>1</td>\n",
       "    </tr>\n",
       "    <tr>\n",
       "      <th>1</th>\n",
       "      <td>Bloomsey</td>\n",
       "      <td>Peer-reviewed article: http://www.cell.com/can...</td>\n",
       "      <td>&amp;lt;div class=\"md\"&amp;gt;&amp;lt;p&amp;gt;Peer-reviewed a...</td>\n",
       "      <td>0</td>\n",
       "      <td>1446260748</td>\n",
       "      <td>1446231948</td>\n",
       "      <td>NaN</td>\n",
       "      <td>0</td>\n",
       "      <td>False</td>\n",
       "      <td>0</td>\n",
       "      <td>cwiohv5</td>\n",
       "      <td>False</td>\n",
       "      <td>t3_3qvj7a</td>\n",
       "      <td>t1_cwiohv5</td>\n",
       "      <td>NaN</td>\n",
       "      <td>t3_3qvj7a</td>\n",
       "      <td>{u'kind': u'Listing', u'data': {u'modhash': No...</td>\n",
       "      <td>660</td>\n",
       "      <td>science</td>\n",
       "      <td>660</td>\n",
       "      <td>85</td>\n",
       "      <td>[Peer, reviewed, article, http, www, cell, com...</td>\n",
       "      <td>15</td>\n",
       "      <td>91</td>\n",
       "      <td>1</td>\n",
       "    </tr>\n",
       "    <tr>\n",
       "      <th>2</th>\n",
       "      <td>schnupfndrache7</td>\n",
       "      <td>is this as revolutionary as it sounds?</td>\n",
       "      <td>&amp;lt;div class=\"md\"&amp;gt;&amp;lt;p&amp;gt;is this as revo...</td>\n",
       "      <td>0</td>\n",
       "      <td>1446264074</td>\n",
       "      <td>1446235274</td>\n",
       "      <td>NaN</td>\n",
       "      <td>0</td>\n",
       "      <td>False</td>\n",
       "      <td>0</td>\n",
       "      <td>cwiqorg</td>\n",
       "      <td>NaN</td>\n",
       "      <td>t3_3qvj7a</td>\n",
       "      <td>t1_cwiqorg</td>\n",
       "      <td>NaN</td>\n",
       "      <td>t3_3qvj7a</td>\n",
       "      <td>{u'kind': u'Listing', u'data': {u'modhash': No...</td>\n",
       "      <td>275</td>\n",
       "      <td>science</td>\n",
       "      <td>275</td>\n",
       "      <td>38</td>\n",
       "      <td>[is, this, as, revolutionary, as, it, sounds]</td>\n",
       "      <td>7</td>\n",
       "      <td>96</td>\n",
       "      <td>1</td>\n",
       "    </tr>\n",
       "    <tr>\n",
       "      <th>3</th>\n",
       "      <td>geoffp82</td>\n",
       "      <td>And then what? Full body MRI?</td>\n",
       "      <td>&amp;lt;div class=\"md\"&amp;gt;&amp;lt;p&amp;gt;And then what? ...</td>\n",
       "      <td>0</td>\n",
       "      <td>1446262287</td>\n",
       "      <td>1446233487</td>\n",
       "      <td>NaN</td>\n",
       "      <td>0</td>\n",
       "      <td>False</td>\n",
       "      <td>0</td>\n",
       "      <td>cwipio1</td>\n",
       "      <td>NaN</td>\n",
       "      <td>t3_3qvj7a</td>\n",
       "      <td>t1_cwipio1</td>\n",
       "      <td>NaN</td>\n",
       "      <td>t3_3qvj7a</td>\n",
       "      <td>{u'kind': u'Listing', u'data': {u'modhash': No...</td>\n",
       "      <td>64</td>\n",
       "      <td>science</td>\n",
       "      <td>64</td>\n",
       "      <td>29</td>\n",
       "      <td>[And, then, what, Full, body, MRI]</td>\n",
       "      <td>6</td>\n",
       "      <td>93</td>\n",
       "      <td>0</td>\n",
       "    </tr>\n",
       "    <tr>\n",
       "      <th>4</th>\n",
       "      <td>momoneymoproblemss</td>\n",
       "      <td>Is it weird I would like to take this test on ...</td>\n",
       "      <td>&amp;lt;div class=\"md\"&amp;gt;&amp;lt;p&amp;gt;Is it weird I w...</td>\n",
       "      <td>0</td>\n",
       "      <td>1446263469</td>\n",
       "      <td>1446234669</td>\n",
       "      <td>NaN</td>\n",
       "      <td>0</td>\n",
       "      <td>False</td>\n",
       "      <td>0</td>\n",
       "      <td>cwiqags</td>\n",
       "      <td>NaN</td>\n",
       "      <td>t3_3qvj7a</td>\n",
       "      <td>t1_cwiqags</td>\n",
       "      <td>NaN</td>\n",
       "      <td>t3_3qvj7a</td>\n",
       "      <td>{u'kind': u'Listing', u'data': {u'modhash': No...</td>\n",
       "      <td>131</td>\n",
       "      <td>science</td>\n",
       "      <td>131</td>\n",
       "      <td>153</td>\n",
       "      <td>[Is, it, weird, I, would, like, to, take, this...</td>\n",
       "      <td>32</td>\n",
       "      <td>95</td>\n",
       "      <td>1</td>\n",
       "    </tr>\n",
       "  </tbody>\n",
       "</table>\n",
       "</div>"
      ],
      "text/plain": [
       "               author                                               body                                          body_html  controversiality     created  created_utc distinguished downs        edited gilded       id  likes    link_id        name num_reports  parent_id                                            replies score subreddit   ups  com_len                                              token  word_num  time  over100\n",
       "0        Voerendaalse  &gt; Subsequent validation using a separate va...  &lt;div class=\"md\"&gt;&lt;blockquote&gt;\\n&lt;...                 0  1446262140   1446233340           NaN     0  1446234176.0      0  cwipf39    NaN  t3_3qvj7a  t1_cwipf39         NaN  t3_3qvj7a  {u'kind': u'Listing', u'data': {u'modhash': No...  1685   science  1685     1083  [gt, Subsequent, validation, using, a, separat...       198    93        1\n",
       "1            Bloomsey  Peer-reviewed article: http://www.cell.com/can...  &lt;div class=\"md\"&gt;&lt;p&gt;Peer-reviewed a...                 0  1446260748   1446231948           NaN     0         False      0  cwiohv5  False  t3_3qvj7a  t1_cwiohv5         NaN  t3_3qvj7a  {u'kind': u'Listing', u'data': {u'modhash': No...   660   science   660       85  [Peer, reviewed, article, http, www, cell, com...        15    91        1\n",
       "2     schnupfndrache7             is this as revolutionary as it sounds?  &lt;div class=\"md\"&gt;&lt;p&gt;is this as revo...                 0  1446264074   1446235274           NaN     0         False      0  cwiqorg    NaN  t3_3qvj7a  t1_cwiqorg         NaN  t3_3qvj7a  {u'kind': u'Listing', u'data': {u'modhash': No...   275   science   275       38      [is, this, as, revolutionary, as, it, sounds]         7    96        1\n",
       "3            geoffp82                      And then what? Full body MRI?  &lt;div class=\"md\"&gt;&lt;p&gt;And then what? ...                 0  1446262287   1446233487           NaN     0         False      0  cwipio1    NaN  t3_3qvj7a  t1_cwipio1         NaN  t3_3qvj7a  {u'kind': u'Listing', u'data': {u'modhash': No...    64   science    64       29                 [And, then, what, Full, body, MRI]         6    93        0\n",
       "4  momoneymoproblemss  Is it weird I would like to take this test on ...  &lt;div class=\"md\"&gt;&lt;p&gt;Is it weird I w...                 0  1446263469   1446234669           NaN     0         False      0  cwiqags    NaN  t3_3qvj7a  t1_cwiqags         NaN  t3_3qvj7a  {u'kind': u'Listing', u'data': {u'modhash': No...   131   science   131      153  [Is, it, weird, I, would, like, to, take, this...        32    95        1"
      ]
     },
     "execution_count": 154,
     "metadata": {},
     "output_type": "execute_result"
    }
   ],
   "source": [
    "df.head()"
   ]
  },
  {
   "cell_type": "code",
   "execution_count": 133,
   "metadata": {
    "collapsed": true
   },
   "outputs": [],
   "source": [
    "#function to divide and categorize submission time by 10 min eachvectorizer = CountVectorizer(min_df=0)\n",
    "import datetime\n",
    "def convert_time(time):\n",
    "    Hour = datetime.datetime.fromtimestamp(time).strftime('%H')\n",
    "    Min = datetime.datetime.fromtimestamp(time).strftime('%M')\n",
    "    return int(Hour)*6 + (round(int(Min), -1)/10)"
   ]
  },
  {
   "cell_type": "code",
   "execution_count": 134,
   "metadata": {
    "collapsed": false
   },
   "outputs": [],
   "source": [
    "df['time'] = df.created_utc.apply(convert_time)"
   ]
  },
  {
   "cell_type": "markdown",
   "metadata": {},
   "source": [
    "# Some Modelling Methods \n"
   ]
  },
  {
   "cell_type": "code",
   "execution_count": 156,
   "metadata": {
    "collapsed": true
   },
   "outputs": [],
   "source": [
    "#Naive base model for whether its good or not [ SELECTED TERRIBLE FEATURE]"
   ]
  },
  {
   "cell_type": "code",
   "execution_count": 155,
   "metadata": {
    "collapsed": true
   },
   "outputs": [],
   "source": [
    "def make_xy(x, vectorizer=None):\n",
    "    #Your code here    \n",
    "    if vectorizer is None:\n",
    "        vectorizer = CountVectorizer()\n",
    "    X = vectorizer.fit_transform(x.body)\n",
    "    X = X.tocsc()  # some versions of sklearn return COO format\n",
    "    y = (x.over100 == 1).values.astype(np.int)\n",
    "    return X, y\n",
    "X, y = make_xy(df)"
   ]
  },
  {
   "cell_type": "code",
   "execution_count": 159,
   "metadata": {
    "collapsed": false
   },
   "outputs": [
    {
     "name": "stdout",
     "output_type": "stream",
     "text": [
      "MN Accuracy: 93.87%\n"
     ]
    }
   ],
   "source": [
    "from sklearn.naive_bayes import MultinomialNB\n",
    "from sklearn.cross_validation import train_test_split\n",
    "xtrain, xtest, ytrain, ytest = train_test_split(X, y)\n",
    "clf = MultinomialNB().fit(xtrain, ytrain)\n",
    "print \"MN Accuracy: %0.2f%%\" % (100 * clf.score(xtest, ytest))"
   ]
  },
  {
   "cell_type": "code",
   "execution_count": 160,
   "metadata": {
    "collapsed": false
   },
   "outputs": [
    {
     "name": "stdout",
     "output_type": "stream",
     "text": [
      "Accuracy on training data: 0.95\n",
      "Accuracy on test data:     0.94\n"
     ]
    }
   ],
   "source": [
    "training_accuracy = clf.score(xtrain, ytrain)\n",
    "test_accuracy = clf.score(xtest, ytest)\n",
    "\n",
    "print \"Accuracy on training data: %0.2f\" % (training_accuracy)\n",
    "print \"Accuracy on test data:     %0.2f\" % (test_accuracy)"
   ]
  },
  {
   "cell_type": "code",
   "execution_count": 161,
   "metadata": {
    "collapsed": true
   },
   "outputs": [],
   "source": [
    "from sklearn.cross_validation import KFold\n",
    "def cv_score(clf, X, y, scorefunc):\n",
    "    result = 0.\n",
    "    nfold = 5\n",
    "    for train, test in KFold(y.size, nfold): # split data into train/test groups, 5 times\n",
    "        clf.fit(X[train], y[train]) # fit\n",
    "        result += scorefunc(clf, X[test], y[test]) # evaluate score function on held-out data\n",
    "    return result / nfold # average"
   ]
  },
  {
   "cell_type": "code",
   "execution_count": 162,
   "metadata": {
    "collapsed": true
   },
   "outputs": [],
   "source": [
    "def log_likelihood(clf, x, y):\n",
    "    prob = clf.predict_log_proba(x)\n",
    "    rotten = y == 0\n",
    "    fresh = ~rotten\n",
    "    return prob[rotten, 0].sum() + prob[fresh, 1].sum()"
   ]
  },
  {
   "cell_type": "code",
   "execution_count": 164,
   "metadata": {
    "collapsed": false
   },
   "outputs": [],
   "source": [
    "from sklearn.cross_validation import train_test_split\n",
    "itrain, itest = train_test_split(xrange(df.shape[0]), train_size=0.7)\n",
    "mask=np.ones(df.shape[0], dtype='int')\n",
    "mask[itrain]=1\n",
    "mask[itest]=0\n",
    "mask = (mask==1)"
   ]
  },
  {
   "cell_type": "code",
   "execution_count": 166,
   "metadata": {
    "collapsed": false
   },
   "outputs": [],
   "source": [
    "#the grid of parameters to search over\n",
    "alphas = [0, .1, 1, 5, 10, 50]\n",
    "min_dfs = [1e-5, 1e-4, 1e-3, 1e-2, 1e-1]\n",
    "\n",
    "#Find the best value for alpha and min_df, and the best classifier\n",
    "best_alpha = None\n",
    "best_min_df = None\n",
    "maxscore=-np.inf\n",
    "for alpha in alphas:\n",
    "    for min_df in min_dfs:         \n",
    "        vectorizer = CountVectorizer(min_df = min_df)       \n",
    "        Xthis, ythis = make_xy(df, vectorizer)\n",
    "        Xtrainthis=Xthis[mask]\n",
    "        ytrainthis=ythis[mask]\n",
    "        #your code here\n",
    "        clf = MultinomialNB(alpha=alpha)\n",
    "        cvscore = cv_score(clf, Xtrainthis, ytrainthis, log_likelihood)\n",
    "\n",
    "        if cvscore > maxscore:\n",
    "            maxscore = cvscore\n",
    "            best_alpha, best_min_df = alpha, min_df"
   ]
  },
  {
   "cell_type": "code",
   "execution_count": 167,
   "metadata": {
    "collapsed": false
   },
   "outputs": [
    {
     "name": "stdout",
     "output_type": "stream",
     "text": [
      "alpha: 50.000000\n",
      "min_df: 0.100000\n"
     ]
    }
   ],
   "source": [
    "print \"alpha: %f\" % best_alpha\n",
    "print \"min_df: %f\" % best_min_df"
   ]
  },
  {
   "cell_type": "code",
   "execution_count": 169,
   "metadata": {
    "collapsed": false
   },
   "outputs": [
    {
     "name": "stdout",
     "output_type": "stream",
     "text": [
      "Accuracy on training data: 0.96\n",
      "Accuracy on test data:     0.96\n"
     ]
    }
   ],
   "source": [
    "vectorizer = CountVectorizer(min_df=best_min_df)\n",
    "X, y = make_xy(df, vectorizer)\n",
    "xtrain=X[mask]\n",
    "ytrain=y[mask]\n",
    "xtest=X[~mask]\n",
    "ytest=y[~mask]\n",
    "\n",
    "clf = MultinomialNB(alpha=best_alpha).fit(xtrain, ytrain)\n",
    "\n",
    "# Your code here. Print the accuracy on the test and training dataset\n",
    "training_accuracy = clf.score(xtrain, ytrain)\n",
    "test_accuracy = clf.score(xtest, ytest)\n",
    "\n",
    "print \"Accuracy on training data: %0.2f\" % (training_accuracy)\n",
    "print \"Accuracy on test data:     %0.2f\" % (test_accuracy)"
   ]
  },
  {
   "cell_type": "code",
   "execution_count": 170,
   "metadata": {
    "collapsed": false
   },
   "outputs": [
    {
     "name": "stdout",
     "output_type": "stream",
     "text": [
      "[[31546    18]\n",
      " [ 1418     3]]\n"
     ]
    }
   ],
   "source": [
    "from sklearn.metrics import confusion_matrix\n",
    "print confusion_matrix(ytest, clf.predict(xtest))"
   ]
  },
  {
   "cell_type": "code",
   "execution_count": 171,
   "metadata": {
    "collapsed": false
   },
   "outputs": [
    {
     "name": "stdout",
     "output_type": "stream",
     "text": [
      "Good words\t     P(fresh | word)\n",
      "                 was 0.05\n",
      "                  of 0.05\n",
      "                 not 0.05\n",
      "                  in 0.05\n",
      "                 the 0.05\n",
      "                 and 0.05\n",
      "              people 0.05\n",
      "                  on 0.05\n",
      "                with 0.04\n",
      "                  to 0.04\n",
      "Bad words\t     P(fresh | word)\n",
      "                have 0.04\n",
      "                  we 0.04\n",
      "                  so 0.04\n",
      "                  if 0.04\n",
      "                  be 0.04\n",
      "                 you 0.04\n",
      "                like 0.04\n",
      "                  it 0.04\n",
      "                 all 0.04\n",
      "                what 0.03\n"
     ]
    }
   ],
   "source": [
    "words = np.array(vectorizer.get_feature_names())\n",
    "\n",
    "x = np.eye(xtest.shape[1])\n",
    "probs = clf.predict_log_proba(x)[:, 0]\n",
    "ind = np.argsort(probs)\n",
    "\n",
    "good_words = words[ind[:10]]\n",
    "bad_words = words[ind[-10:]]\n",
    "\n",
    "good_prob = probs[ind[:10]]\n",
    "bad_prob = probs[ind[-10:]]\n",
    "\n",
    "print \"Good words\\t     P(fresh | word)\"\n",
    "for w, p in zip(good_words, good_prob):\n",
    "    print \"%20s\" % w, \"%0.2f\" % (1 - np.exp(p))\n",
    "    \n",
    "print \"Bad words\\t     P(fresh | word)\"\n",
    "for w, p in zip(bad_words, bad_prob):\n",
    "    print \"%20s\" % w, \"%0.2f\" % (1 - np.exp(p))"
   ]
  },
  {
   "cell_type": "code",
   "execution_count": 172,
   "metadata": {
    "collapsed": true
   },
   "outputs": [],
   "source": [
    "\n",
    "def calibration_plot(clf, xtest, ytest):\n",
    "    prob = clf.predict_proba(xtest)[:, 1]\n",
    "    outcome = ytest\n",
    "    data = pd.DataFrame(dict(prob=prob, outcome=outcome))\n",
    "\n",
    "    #group outcomes into bins of similar probability\n",
    "    bins = np.linspace(0, 1, 20)\n",
    "    cuts = pd.cut(prob, bins)\n",
    "    binwidth = bins[1] - bins[0]\n",
    "    \n",
    "    #freshness ratio and number of examples in each bin\n",
    "    cal = data.groupby(cuts).outcome.agg(['mean', 'count'])\n",
    "    cal['pmid'] = (bins[:-1] + bins[1:]) / 2\n",
    "    cal['sig'] = np.sqrt(cal.pmid * (1 - cal.pmid) / cal['count'])\n",
    "        \n",
    "    #the calibration plot\n",
    "    ax = plt.subplot2grid((3, 1), (0, 0), rowspan=2)\n",
    "    p = plt.errorbar(cal.pmid, cal['mean'], cal['sig'])\n",
    "    plt.plot(cal.pmid, cal.pmid, linestyle='--', lw=1, color='k')\n",
    "    plt.ylabel(\"Empirical P(Fresh)\")\n",
    "    \n",
    "    #the distribution of P(fresh)\n",
    "    ax = plt.subplot2grid((3, 1), (2, 0), sharex=ax)\n",
    "    \n",
    "    plt.bar(left=cal.pmid - binwidth / 2, height=cal['count'],\n",
    "            width=.95 * (bins[1] - bins[0]),\n",
    "            fc=p[0].get_color())\n",
    "    \n",
    "    plt.xlabel(\"Predicted P(Fresh)\")\n",
    "    plt.ylabel(\"Number\")"
   ]
  },
  {
   "cell_type": "code",
   "execution_count": 173,
   "metadata": {
    "collapsed": false
   },
   "outputs": [
    {
     "name": "stderr",
     "output_type": "stream",
     "text": [
      "C:\\Users\\You-Myeong\\Anaconda\\lib\\site-packages\\matplotlib\\collections.py:590: FutureWarning: elementwise comparison failed; returning scalar instead, but in the future will perform elementwise comparison\n",
      "  if self._edgecolors == str('face'):\n"
     ]
    },
    {
     "data": {
      "image/png": "[encoded data removed]",
      "text/plain": [
       "<matplotlib.figure.Figure at 0x78812358>"
      ]
     },
     "metadata": {},
     "output_type": "display_data"
    }
   ],
   "source": [
    "calibration_plot(clf, xtest, ytest)\n"
   ]
  },
  {
   "cell_type": "markdown",
   "metadata": {},
   "source": [
    "# Regression model RMSE"
   ]
  },
  {
   "cell_type": "code",
   "execution_count": null,
   "metadata": {
    "collapsed": true
   },
   "outputs": [],
   "source": []
  }
 ],
 "metadata": {
  "kernelspec": {
   "display_name": "Python 2",
   "language": "python",
   "name": "python2"
  },
  "language_info": {
   "codemirror_mode": {
    "name": "ipython",
    "version": 2
   },
   "file_extension": ".py",
   "mimetype": "text/x-python",
   "name": "python",
   "nbconvert_exporter": "python",
   "pygments_lexer": "ipython2",
   "version": "2.7.10"
  }
 },
 "nbformat": 4,
 "nbformat_minor": 0
}
