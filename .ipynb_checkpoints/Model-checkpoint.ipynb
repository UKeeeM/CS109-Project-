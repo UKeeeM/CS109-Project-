{
 "cells": [
  {
   "cell_type": "code",
   "execution_count": 1,
   "metadata": {
    "collapsed": true
   },
   "outputs": [],
   "source": [
    "%matplotlib inline\n",
    "import numpy as np\n",
    "import scipy as sp\n",
    "import matplotlib as mpl\n",
    "import matplotlib.cm as cm\n",
    "import matplotlib.pyplot as plt\n",
    "import pandas as pd\n",
    "pd.set_option('display.width', 500)\n",
    "pd.set_option('display.max_columns', 100)\n",
    "pd.set_option('display.notebook_repr_html', True)\n",
    "import seaborn as sns\n",
    "sns.set_style(\"whitegrid\")\n",
    "sns.set_context(\"poster\")\n",
    "import nltk"
   ]
  },
  {
   "cell_type": "code",
   "execution_count": 2,
   "metadata": {
    "collapsed": false
   },
   "outputs": [
    {
     "name": "stderr",
     "output_type": "stream",
     "text": [
      "C:\\Users\\You-Myeong\\Anaconda\\lib\\site-packages\\pandas\\io\\parsers.py:1170: DtypeWarning: Columns (6,7,9,14,17,19) have mixed types. Specify dtype option on import or set low_memory=False.\n",
      "  data = self._reader.read(nrows)\n"
     ]
    },
    {
     "data": {
      "text/html": [
       "<div>\n",
       "<table border=\"1\" class=\"dataframe\">\n",
       "  <thead>\n",
       "    <tr style=\"text-align: right;\">\n",
       "      <th></th>\n",
       "      <th>author</th>\n",
       "      <th>body</th>\n",
       "      <th>body_html</th>\n",
       "      <th>controversiality</th>\n",
       "      <th>created</th>\n",
       "      <th>created_utc</th>\n",
       "      <th>distinguished</th>\n",
       "      <th>downs</th>\n",
       "      <th>edited</th>\n",
       "      <th>gilded</th>\n",
       "      <th>id</th>\n",
       "      <th>likes</th>\n",
       "      <th>link_id</th>\n",
       "      <th>name</th>\n",
       "      <th>num_reports</th>\n",
       "      <th>parent_id</th>\n",
       "      <th>replies</th>\n",
       "      <th>score</th>\n",
       "      <th>subreddit</th>\n",
       "      <th>ups</th>\n",
       "      <th>pid</th>\n",
       "      <th>tokens</th>\n",
       "      <th>comment_length</th>\n",
       "      <th>n_tokens</th>\n",
       "      <th>keywords</th>\n",
       "    </tr>\n",
       "  </thead>\n",
       "  <tbody>\n",
       "    <tr>\n",
       "      <th>0</th>\n",
       "      <td>SirT6</td>\n",
       "      <td>The title sort of misses the point of the stud...</td>\n",
       "      <td>&amp;lt;div class=\"md\"&amp;gt;&amp;lt;p&amp;gt;The title sort ...</td>\n",
       "      <td>0</td>\n",
       "      <td>1447279564</td>\n",
       "      <td>1447250764</td>\n",
       "      <td>NaN</td>\n",
       "      <td>0</td>\n",
       "      <td>False</td>\n",
       "      <td>1</td>\n",
       "      <td>cwwhtv7</td>\n",
       "      <td>NaN</td>\n",
       "      <td>t3_3se6lu</td>\n",
       "      <td>t1_cwwhtv7</td>\n",
       "      <td>NaN</td>\n",
       "      <td>t3_3se6lu</td>\n",
       "      <td>{u'kind': u'Listing', u'data': {u'modhash': No...</td>\n",
       "      <td>1359</td>\n",
       "      <td>science</td>\n",
       "      <td>1359</td>\n",
       "      <td>3se6lu</td>\n",
       "      <td>Counter({'alga': 5, 'cancer': 4, 'cell': 4, 'd...</td>\n",
       "      <td>869</td>\n",
       "      <td>52</td>\n",
       "      <td>{'toxinalgae': 1.009933774834437, 'cancer': 1....</td>\n",
       "    </tr>\n",
       "    <tr>\n",
       "      <th>1</th>\n",
       "      <td>DrBiochemistry</td>\n",
       "      <td>Just want to point out that until I see a deli...</td>\n",
       "      <td>&amp;lt;div class=\"md\"&amp;gt;&amp;lt;p&amp;gt;Just want to po...</td>\n",
       "      <td>0</td>\n",
       "      <td>1447277409</td>\n",
       "      <td>1447248609</td>\n",
       "      <td>NaN</td>\n",
       "      <td>0</td>\n",
       "      <td>False</td>\n",
       "      <td>0</td>\n",
       "      <td>cwwgxle</td>\n",
       "      <td>NaN</td>\n",
       "      <td>t3_3se6lu</td>\n",
       "      <td>t1_cwwgxle</td>\n",
       "      <td>NaN</td>\n",
       "      <td>t3_3se6lu</td>\n",
       "      <td>{u'kind': u'Listing', u'data': {u'modhash': No...</td>\n",
       "      <td>3209</td>\n",
       "      <td>science</td>\n",
       "      <td>3209</td>\n",
       "      <td>3se6lu</td>\n",
       "      <td>Counter({'kill': 2, 'deliveri': 2, 'cancer': 1...</td>\n",
       "      <td>307</td>\n",
       "      <td>30</td>\n",
       "      <td>{'delivery': 1.0588235294117647, 'survives': 1...</td>\n",
       "    </tr>\n",
       "    <tr>\n",
       "      <th>2</th>\n",
       "      <td>Frogblood</td>\n",
       "      <td>It's an interesting idea but the in vitro and ...</td>\n",
       "      <td>&amp;lt;div class=\"md\"&amp;gt;&amp;lt;p&amp;gt;It&amp;amp;#39;s an...</td>\n",
       "      <td>0</td>\n",
       "      <td>1447276156</td>\n",
       "      <td>1447247356</td>\n",
       "      <td>NaN</td>\n",
       "      <td>0</td>\n",
       "      <td>False</td>\n",
       "      <td>0</td>\n",
       "      <td>cwwggxu</td>\n",
       "      <td>NaN</td>\n",
       "      <td>t3_3se6lu</td>\n",
       "      <td>t1_cwwggxu</td>\n",
       "      <td>NaN</td>\n",
       "      <td>t3_3se6lu</td>\n",
       "      <td>{u'kind': u'Listing', u'data': {u'modhash': No...</td>\n",
       "      <td>133</td>\n",
       "      <td>science</td>\n",
       "      <td>133</td>\n",
       "      <td>3se6lu</td>\n",
       "      <td>Counter({'idea': 2, 'target': 2, 'overexcit': ...</td>\n",
       "      <td>432</td>\n",
       "      <td>39</td>\n",
       "      <td>{'tumour': 1.0217391304347827, 'targeting': 1....</td>\n",
       "    </tr>\n",
       "    <tr>\n",
       "      <th>3</th>\n",
       "      <td>mijn_ikke</td>\n",
       "      <td>Just waiting until somebody smarter than me co...</td>\n",
       "      <td>&amp;lt;div class=\"md\"&amp;gt;&amp;lt;p&amp;gt;Just waiting un...</td>\n",
       "      <td>0</td>\n",
       "      <td>1447275611</td>\n",
       "      <td>1447246811</td>\n",
       "      <td>NaN</td>\n",
       "      <td>0</td>\n",
       "      <td>1447248944.0</td>\n",
       "      <td>1</td>\n",
       "      <td>cwwga6g</td>\n",
       "      <td>NaN</td>\n",
       "      <td>t3_3se6lu</td>\n",
       "      <td>t1_cwwga6g</td>\n",
       "      <td>NaN</td>\n",
       "      <td>t3_3se6lu</td>\n",
       "      <td>{u'kind': u'Listing', u'data': {u'modhash': No...</td>\n",
       "      <td>773</td>\n",
       "      <td>science</td>\n",
       "      <td>773</td>\n",
       "      <td>3se6lu</td>\n",
       "      <td>Counter({'thank': 1, 'gold': 1, 'point': 1, 'e...</td>\n",
       "      <td>163</td>\n",
       "      <td>12</td>\n",
       "      <td>{'somebody': 1.0517241379310345, 'gold': 1.051...</td>\n",
       "    </tr>\n",
       "    <tr>\n",
       "      <th>4</th>\n",
       "      <td>awhitt8</td>\n",
       "      <td>Yes the title is sensationalized.\\n\\n&amp;gt;The m...</td>\n",
       "      <td>&amp;lt;div class=\"md\"&amp;gt;&amp;lt;p&amp;gt;Yes the title i...</td>\n",
       "      <td>0</td>\n",
       "      <td>1447284967</td>\n",
       "      <td>1447256167</td>\n",
       "      <td>NaN</td>\n",
       "      <td>0</td>\n",
       "      <td>1447259263.0</td>\n",
       "      <td>0</td>\n",
       "      <td>cwwkopn</td>\n",
       "      <td>NaN</td>\n",
       "      <td>t3_3se6lu</td>\n",
       "      <td>t1_cwwkopn</td>\n",
       "      <td>NaN</td>\n",
       "      <td>t3_3se6lu</td>\n",
       "      <td>{u'kind': u'Listing', u'data': {u'modhash': No...</td>\n",
       "      <td>16</td>\n",
       "      <td>science</td>\n",
       "      <td>16</td>\n",
       "      <td>3se6lu</td>\n",
       "      <td>Counter({'drug': 5, 'deliveri': 4, 'materi': 3...</td>\n",
       "      <td>1447</td>\n",
       "      <td>104</td>\n",
       "      <td>{'delivery': 1.030612244897959, 'title': 1.015...</td>\n",
       "    </tr>\n",
       "  </tbody>\n",
       "</table>\n",
       "</div>"
      ],
      "text/plain": [
       "           author                                               body                                          body_html  controversiality     created  created_utc distinguished downs        edited gilded       id likes    link_id        name num_reports  parent_id                                            replies score subreddit   ups     pid                                             tokens  comment_length  n_tokens                                           keywords\n",
       "0           SirT6  The title sort of misses the point of the stud...  &lt;div class=\"md\"&gt;&lt;p&gt;The title sort ...                 0  1447279564   1447250764           NaN     0         False      1  cwwhtv7   NaN  t3_3se6lu  t1_cwwhtv7         NaN  t3_3se6lu  {u'kind': u'Listing', u'data': {u'modhash': No...  1359   science  1359  3se6lu  Counter({'alga': 5, 'cancer': 4, 'cell': 4, 'd...             869        52  {'toxinalgae': 1.009933774834437, 'cancer': 1....\n",
       "1  DrBiochemistry  Just want to point out that until I see a deli...  &lt;div class=\"md\"&gt;&lt;p&gt;Just want to po...                 0  1447277409   1447248609           NaN     0         False      0  cwwgxle   NaN  t3_3se6lu  t1_cwwgxle         NaN  t3_3se6lu  {u'kind': u'Listing', u'data': {u'modhash': No...  3209   science  3209  3se6lu  Counter({'kill': 2, 'deliveri': 2, 'cancer': 1...             307        30  {'delivery': 1.0588235294117647, 'survives': 1...\n",
       "2       Frogblood  It's an interesting idea but the in vitro and ...  &lt;div class=\"md\"&gt;&lt;p&gt;It&amp;#39;s an...                 0  1447276156   1447247356           NaN     0         False      0  cwwggxu   NaN  t3_3se6lu  t1_cwwggxu         NaN  t3_3se6lu  {u'kind': u'Listing', u'data': {u'modhash': No...   133   science   133  3se6lu  Counter({'idea': 2, 'target': 2, 'overexcit': ...             432        39  {'tumour': 1.0217391304347827, 'targeting': 1....\n",
       "3       mijn_ikke  Just waiting until somebody smarter than me co...  &lt;div class=\"md\"&gt;&lt;p&gt;Just waiting un...                 0  1447275611   1447246811           NaN     0  1447248944.0      1  cwwga6g   NaN  t3_3se6lu  t1_cwwga6g         NaN  t3_3se6lu  {u'kind': u'Listing', u'data': {u'modhash': No...   773   science   773  3se6lu  Counter({'thank': 1, 'gold': 1, 'point': 1, 'e...             163        12  {'somebody': 1.0517241379310345, 'gold': 1.051...\n",
       "4         awhitt8  Yes the title is sensationalized.\\n\\n&gt;The m...  &lt;div class=\"md\"&gt;&lt;p&gt;Yes the title i...                 0  1447284967   1447256167           NaN     0  1447259263.0      0  cwwkopn   NaN  t3_3se6lu  t1_cwwkopn         NaN  t3_3se6lu  {u'kind': u'Listing', u'data': {u'modhash': No...    16   science    16  3se6lu  Counter({'drug': 5, 'deliveri': 4, 'materi': 3...            1447       104  {'delivery': 1.030612244897959, 'title': 1.015..."
      ]
     },
     "execution_count": 2,
     "metadata": {},
     "output_type": "execute_result"
    }
   ],
   "source": [
    "df=pd.read_csv(\"train_comments.csv\")\n",
    "df.head()"
   ]
  },
  {
   "cell_type": "code",
   "execution_count": 3,
   "metadata": {
    "collapsed": true
   },
   "outputs": [],
   "source": [
    "missing_index = df['created_utc'].index[df['created_utc'].apply(np.isnan)]"
   ]
  },
  {
   "cell_type": "code",
   "execution_count": 4,
   "metadata": {
    "collapsed": false
   },
   "outputs": [
    {
     "data": {
      "text/plain": [
       "Int64Index([2295, 2296, 12105, 12106, 27077, 27078, 27079, 27910, 27911, 28721, 28722, 32539, 32540, 33215, 33216, 44529, 44530, 69624, 69625, 88868, 88869, 88870, 109778, 109779, 110506, 110507, 110508, 173931, 173932, 175562, 175563, 175710, 175711, 179208, 179209, 179732, 179733, 179734, 182324, 182325, 203402, 203403, 205261, 205262, 206207, 206208, 214122, 214123, 219465, 219466, 245058, 245059, 263159, 263160, 276731, 276732], dtype='int64')"
      ]
     },
     "execution_count": 4,
     "metadata": {},
     "output_type": "execute_result"
    }
   ],
   "source": [
    "missing_index"
   ]
  },
  {
   "cell_type": "code",
   "execution_count": 5,
   "metadata": {
    "collapsed": true
   },
   "outputs": [],
   "source": [
    "#Drop all the values that have nan inside \n",
    "list1 = []\n",
    "for index in missing_index:\n",
    "    list1.append(index)"
   ]
  },
  {
   "cell_type": "code",
   "execution_count": 6,
   "metadata": {
    "collapsed": true
   },
   "outputs": [],
   "source": [
    "df = df.drop(df.index[list1])"
   ]
  },
  {
   "cell_type": "markdown",
   "metadata": {},
   "source": [
    "# add some more features"
   ]
  },
  {
   "cell_type": "code",
   "execution_count": 8,
   "metadata": {
    "collapsed": false
   },
   "outputs": [],
   "source": [
    "import datetime\n",
    "def convert_time(time):\n",
    "    hour = datetime.datetime.fromtimestamp(time).strftime('%H')\n",
    "    return int(hour)"
   ]
  },
  {
   "cell_type": "code",
   "execution_count": 9,
   "metadata": {
    "collapsed": true
   },
   "outputs": [],
   "source": [
    "df['time'] = df.created_utc.apply(convert_time)"
   ]
  },
  {
   "cell_type": "code",
   "execution_count": 10,
   "metadata": {
    "collapsed": false
   },
   "outputs": [],
   "source": [
    "from nltk.tokenize import RegexpTokenizer\n",
    "stopWords = nltk.corpus.stopwords.words('english') + ['.',',']\n",
    "def tokenize(body):\n",
    "    tokenizer = RegexpTokenizer(r'\\w+')\n",
    "    words = tokenizer.tokenize(unicode(str(body),\"utf-8\"))\n",
    "    return [e.lower() for e in words if not e.lower() in stopWords]"
   ]
  },
  {
   "cell_type": "code",
   "execution_count": 11,
   "metadata": {
    "collapsed": false
   },
   "outputs": [],
   "source": [
    "df['token_body'] = df.body.apply(tokenize)"
   ]
  },
  {
   "cell_type": "code",
   "execution_count": 12,
   "metadata": {
    "collapsed": true
   },
   "outputs": [],
   "source": [
    "def tokensentence(token_body):\n",
    "    return ' '.join(word for word in token_body)"
   ]
  },
  {
   "cell_type": "code",
   "execution_count": 13,
   "metadata": {
    "collapsed": true
   },
   "outputs": [],
   "source": [
    "df['token_sentence'] = df.token_body.apply(tokensentence)"
   ]
  },
  {
   "cell_type": "code",
   "execution_count": 14,
   "metadata": {
    "collapsed": false
   },
   "outputs": [],
   "source": [
    "def over500(upvote):\n",
    "    if int(upvote) >= 500:\n",
    "        return 'good'\n",
    "    else:\n",
    "        return 'bad'\n",
    "df['over500'] = df.ups.apply(over500)"
   ]
  },
  {
   "cell_type": "code",
   "execution_count": 15,
   "metadata": {
    "collapsed": false
   },
   "outputs": [
    {
     "data": {
      "text/html": [
       "<div>\n",
       "<table border=\"1\" class=\"dataframe\">\n",
       "  <thead>\n",
       "    <tr style=\"text-align: right;\">\n",
       "      <th></th>\n",
       "      <th>author</th>\n",
       "      <th>body</th>\n",
       "      <th>body_html</th>\n",
       "      <th>controversiality</th>\n",
       "      <th>created</th>\n",
       "      <th>created_utc</th>\n",
       "      <th>distinguished</th>\n",
       "      <th>downs</th>\n",
       "      <th>edited</th>\n",
       "      <th>gilded</th>\n",
       "      <th>id</th>\n",
       "      <th>likes</th>\n",
       "      <th>link_id</th>\n",
       "      <th>name</th>\n",
       "      <th>num_reports</th>\n",
       "      <th>parent_id</th>\n",
       "      <th>replies</th>\n",
       "      <th>score</th>\n",
       "      <th>subreddit</th>\n",
       "      <th>ups</th>\n",
       "      <th>pid</th>\n",
       "      <th>tokens</th>\n",
       "      <th>comment_length</th>\n",
       "      <th>n_tokens</th>\n",
       "      <th>keywords</th>\n",
       "      <th>time</th>\n",
       "      <th>token_body</th>\n",
       "      <th>token_sentence</th>\n",
       "      <th>over500</th>\n",
       "    </tr>\n",
       "  </thead>\n",
       "  <tbody>\n",
       "    <tr>\n",
       "      <th>0</th>\n",
       "      <td>SirT6</td>\n",
       "      <td>The title sort of misses the point of the stud...</td>\n",
       "      <td>&amp;lt;div class=\"md\"&amp;gt;&amp;lt;p&amp;gt;The title sort ...</td>\n",
       "      <td>0</td>\n",
       "      <td>1447279564</td>\n",
       "      <td>1447250764</td>\n",
       "      <td>NaN</td>\n",
       "      <td>0</td>\n",
       "      <td>False</td>\n",
       "      <td>1</td>\n",
       "      <td>cwwhtv7</td>\n",
       "      <td>NaN</td>\n",
       "      <td>t3_3se6lu</td>\n",
       "      <td>t1_cwwhtv7</td>\n",
       "      <td>NaN</td>\n",
       "      <td>t3_3se6lu</td>\n",
       "      <td>{u'kind': u'Listing', u'data': {u'modhash': No...</td>\n",
       "      <td>1359</td>\n",
       "      <td>science</td>\n",
       "      <td>1359</td>\n",
       "      <td>3se6lu</td>\n",
       "      <td>Counter({'alga': 5, 'cancer': 4, 'cell': 4, 'd...</td>\n",
       "      <td>869</td>\n",
       "      <td>52</td>\n",
       "      <td>{'toxinalgae': 1.009933774834437, 'cancer': 1....</td>\n",
       "      <td>9</td>\n",
       "      <td>[title, sort, misses, point, study, title, imp...</td>\n",
       "      <td>title sort misses point study title implies al...</td>\n",
       "      <td>good</td>\n",
       "    </tr>\n",
       "    <tr>\n",
       "      <th>1</th>\n",
       "      <td>DrBiochemistry</td>\n",
       "      <td>Just want to point out that until I see a deli...</td>\n",
       "      <td>&amp;lt;div class=\"md\"&amp;gt;&amp;lt;p&amp;gt;Just want to po...</td>\n",
       "      <td>0</td>\n",
       "      <td>1447277409</td>\n",
       "      <td>1447248609</td>\n",
       "      <td>NaN</td>\n",
       "      <td>0</td>\n",
       "      <td>False</td>\n",
       "      <td>0</td>\n",
       "      <td>cwwgxle</td>\n",
       "      <td>NaN</td>\n",
       "      <td>t3_3se6lu</td>\n",
       "      <td>t1_cwwgxle</td>\n",
       "      <td>NaN</td>\n",
       "      <td>t3_3se6lu</td>\n",
       "      <td>{u'kind': u'Listing', u'data': {u'modhash': No...</td>\n",
       "      <td>3209</td>\n",
       "      <td>science</td>\n",
       "      <td>3209</td>\n",
       "      <td>3se6lu</td>\n",
       "      <td>Counter({'kill': 2, 'deliveri': 2, 'cancer': 1...</td>\n",
       "      <td>307</td>\n",
       "      <td>30</td>\n",
       "      <td>{'delivery': 1.0588235294117647, 'survives': 1...</td>\n",
       "      <td>8</td>\n",
       "      <td>[want, point, see, delivery, system, 1, surviv...</td>\n",
       "      <td>want point see delivery system 1 survives gast...</td>\n",
       "      <td>good</td>\n",
       "    </tr>\n",
       "    <tr>\n",
       "      <th>2</th>\n",
       "      <td>Frogblood</td>\n",
       "      <td>It's an interesting idea but the in vitro and ...</td>\n",
       "      <td>&amp;lt;div class=\"md\"&amp;gt;&amp;lt;p&amp;gt;It&amp;amp;#39;s an...</td>\n",
       "      <td>0</td>\n",
       "      <td>1447276156</td>\n",
       "      <td>1447247356</td>\n",
       "      <td>NaN</td>\n",
       "      <td>0</td>\n",
       "      <td>False</td>\n",
       "      <td>0</td>\n",
       "      <td>cwwggxu</td>\n",
       "      <td>NaN</td>\n",
       "      <td>t3_3se6lu</td>\n",
       "      <td>t1_cwwggxu</td>\n",
       "      <td>NaN</td>\n",
       "      <td>t3_3se6lu</td>\n",
       "      <td>{u'kind': u'Listing', u'data': {u'modhash': No...</td>\n",
       "      <td>133</td>\n",
       "      <td>science</td>\n",
       "      <td>133</td>\n",
       "      <td>3se6lu</td>\n",
       "      <td>Counter({'idea': 2, 'target': 2, 'overexcit': ...</td>\n",
       "      <td>432</td>\n",
       "      <td>39</td>\n",
       "      <td>{'tumour': 1.0217391304347827, 'targeting': 1....</td>\n",
       "      <td>8</td>\n",
       "      <td>[interesting, idea, vitro, vivo, data, prelimi...</td>\n",
       "      <td>interesting idea vitro vivo data preliminary d...</td>\n",
       "      <td>bad</td>\n",
       "    </tr>\n",
       "    <tr>\n",
       "      <th>3</th>\n",
       "      <td>mijn_ikke</td>\n",
       "      <td>Just waiting until somebody smarter than me co...</td>\n",
       "      <td>&amp;lt;div class=\"md\"&amp;gt;&amp;lt;p&amp;gt;Just waiting un...</td>\n",
       "      <td>0</td>\n",
       "      <td>1447275611</td>\n",
       "      <td>1447246811</td>\n",
       "      <td>NaN</td>\n",
       "      <td>0</td>\n",
       "      <td>1447248944.0</td>\n",
       "      <td>1</td>\n",
       "      <td>cwwga6g</td>\n",
       "      <td>NaN</td>\n",
       "      <td>t3_3se6lu</td>\n",
       "      <td>t1_cwwga6g</td>\n",
       "      <td>NaN</td>\n",
       "      <td>t3_3se6lu</td>\n",
       "      <td>{u'kind': u'Listing', u'data': {u'modhash': No...</td>\n",
       "      <td>773</td>\n",
       "      <td>science</td>\n",
       "      <td>773</td>\n",
       "      <td>3se6lu</td>\n",
       "      <td>Counter({'thank': 1, 'gold': 1, 'point': 1, 'e...</td>\n",
       "      <td>163</td>\n",
       "      <td>12</td>\n",
       "      <td>{'somebody': 1.0517241379310345, 'gold': 1.051...</td>\n",
       "      <td>8</td>\n",
       "      <td>[waiting, somebody, smarter, comes, along, poi...</td>\n",
       "      <td>waiting somebody smarter comes along point blo...</td>\n",
       "      <td>good</td>\n",
       "    </tr>\n",
       "    <tr>\n",
       "      <th>4</th>\n",
       "      <td>awhitt8</td>\n",
       "      <td>Yes the title is sensationalized.\\n\\n&amp;gt;The m...</td>\n",
       "      <td>&amp;lt;div class=\"md\"&amp;gt;&amp;lt;p&amp;gt;Yes the title i...</td>\n",
       "      <td>0</td>\n",
       "      <td>1447284967</td>\n",
       "      <td>1447256167</td>\n",
       "      <td>NaN</td>\n",
       "      <td>0</td>\n",
       "      <td>1447259263.0</td>\n",
       "      <td>0</td>\n",
       "      <td>cwwkopn</td>\n",
       "      <td>NaN</td>\n",
       "      <td>t3_3se6lu</td>\n",
       "      <td>t1_cwwkopn</td>\n",
       "      <td>NaN</td>\n",
       "      <td>t3_3se6lu</td>\n",
       "      <td>{u'kind': u'Listing', u'data': {u'modhash': No...</td>\n",
       "      <td>16</td>\n",
       "      <td>science</td>\n",
       "      <td>16</td>\n",
       "      <td>3se6lu</td>\n",
       "      <td>Counter({'drug': 5, 'deliveri': 4, 'materi': 3...</td>\n",
       "      <td>1447</td>\n",
       "      <td>104</td>\n",
       "      <td>{'delivery': 1.030612244897959, 'title': 1.015...</td>\n",
       "      <td>10</td>\n",
       "      <td>[yes, title, sensationalized, gt, intensively,...</td>\n",
       "      <td>yes title sensationalized gt intensively inves...</td>\n",
       "      <td>bad</td>\n",
       "    </tr>\n",
       "  </tbody>\n",
       "</table>\n",
       "</div>"
      ],
      "text/plain": [
       "           author                                               body                                          body_html  controversiality     created  created_utc distinguished downs        edited gilded       id likes    link_id        name num_reports  parent_id                                            replies score subreddit   ups     pid                                             tokens  comment_length  n_tokens                                           keywords  time  \\\n",
       "0           SirT6  The title sort of misses the point of the stud...  &lt;div class=\"md\"&gt;&lt;p&gt;The title sort ...                 0  1447279564   1447250764           NaN     0         False      1  cwwhtv7   NaN  t3_3se6lu  t1_cwwhtv7         NaN  t3_3se6lu  {u'kind': u'Listing', u'data': {u'modhash': No...  1359   science  1359  3se6lu  Counter({'alga': 5, 'cancer': 4, 'cell': 4, 'd...             869        52  {'toxinalgae': 1.009933774834437, 'cancer': 1....     9   \n",
       "1  DrBiochemistry  Just want to point out that until I see a deli...  &lt;div class=\"md\"&gt;&lt;p&gt;Just want to po...                 0  1447277409   1447248609           NaN     0         False      0  cwwgxle   NaN  t3_3se6lu  t1_cwwgxle         NaN  t3_3se6lu  {u'kind': u'Listing', u'data': {u'modhash': No...  3209   science  3209  3se6lu  Counter({'kill': 2, 'deliveri': 2, 'cancer': 1...             307        30  {'delivery': 1.0588235294117647, 'survives': 1...     8   \n",
       "2       Frogblood  It's an interesting idea but the in vitro and ...  &lt;div class=\"md\"&gt;&lt;p&gt;It&amp;#39;s an...                 0  1447276156   1447247356           NaN     0         False      0  cwwggxu   NaN  t3_3se6lu  t1_cwwggxu         NaN  t3_3se6lu  {u'kind': u'Listing', u'data': {u'modhash': No...   133   science   133  3se6lu  Counter({'idea': 2, 'target': 2, 'overexcit': ...             432        39  {'tumour': 1.0217391304347827, 'targeting': 1....     8   \n",
       "3       mijn_ikke  Just waiting until somebody smarter than me co...  &lt;div class=\"md\"&gt;&lt;p&gt;Just waiting un...                 0  1447275611   1447246811           NaN     0  1447248944.0      1  cwwga6g   NaN  t3_3se6lu  t1_cwwga6g         NaN  t3_3se6lu  {u'kind': u'Listing', u'data': {u'modhash': No...   773   science   773  3se6lu  Counter({'thank': 1, 'gold': 1, 'point': 1, 'e...             163        12  {'somebody': 1.0517241379310345, 'gold': 1.051...     8   \n",
       "4         awhitt8  Yes the title is sensationalized.\\n\\n&gt;The m...  &lt;div class=\"md\"&gt;&lt;p&gt;Yes the title i...                 0  1447284967   1447256167           NaN     0  1447259263.0      0  cwwkopn   NaN  t3_3se6lu  t1_cwwkopn         NaN  t3_3se6lu  {u'kind': u'Listing', u'data': {u'modhash': No...    16   science    16  3se6lu  Counter({'drug': 5, 'deliveri': 4, 'materi': 3...            1447       104  {'delivery': 1.030612244897959, 'title': 1.015...    10   \n",
       "\n",
       "                                          token_body                                     token_sentence over500  \n",
       "0  [title, sort, misses, point, study, title, imp...  title sort misses point study title implies al...    good  \n",
       "1  [want, point, see, delivery, system, 1, surviv...  want point see delivery system 1 survives gast...    good  \n",
       "2  [interesting, idea, vitro, vivo, data, prelimi...  interesting idea vitro vivo data preliminary d...     bad  \n",
       "3  [waiting, somebody, smarter, comes, along, poi...  waiting somebody smarter comes along point blo...    good  \n",
       "4  [yes, title, sensationalized, gt, intensively,...  yes title sensationalized gt intensively inves...     bad  "
      ]
     },
     "execution_count": 15,
     "metadata": {},
     "output_type": "execute_result"
    }
   ],
   "source": [
    "df.head()"
   ]
  },
  {
   "cell_type": "code",
   "execution_count": 16,
   "metadata": {
    "collapsed": false
   },
   "outputs": [
    {
     "data": {
      "text/html": [
       "<div>\n",
       "<table border=\"1\" class=\"dataframe\">\n",
       "  <thead>\n",
       "    <tr style=\"text-align: right;\">\n",
       "      <th></th>\n",
       "      <th>authors</th>\n",
       "      <th>keywords</th>\n",
       "      <th>publish_date</th>\n",
       "      <th>summary</th>\n",
       "      <th>text</th>\n",
       "      <th>url</th>\n",
       "      <th>author</th>\n",
       "      <th>created_utc</th>\n",
       "      <th>domain</th>\n",
       "      <th>downs</th>\n",
       "      <th>gilded</th>\n",
       "      <th>is_self</th>\n",
       "      <th>likes</th>\n",
       "      <th>media</th>\n",
       "      <th>id</th>\n",
       "      <th>num_comments</th>\n",
       "      <th>num_reports</th>\n",
       "      <th>over_18</th>\n",
       "      <th>permalink</th>\n",
       "      <th>score</th>\n",
       "      <th>selftext</th>\n",
       "      <th>subreddit</th>\n",
       "      <th>thumbnail</th>\n",
       "      <th>title</th>\n",
       "      <th>ups</th>\n",
       "      <th>tokens</th>\n",
       "      <th>article_len</th>\n",
       "      <th>n_tokens</th>\n",
       "    </tr>\n",
       "  </thead>\n",
       "  <tbody>\n",
       "    <tr>\n",
       "      <th>0</th>\n",
       "      <td>[Derek Keats Flickr, Hannah Osborne, Marc Cirera]</td>\n",
       "      <td>{u'toxic': 1.01308139535, u'cancer': 1.0261627...</td>\n",
       "      <td>2015-11-10 16:00:00+00:00</td>\n",
       "      <td>Algae has been genetically engineered to kill ...</td>\n",
       "      <td>Algae has been genetically engineered to kill ...</td>\n",
       "      <td>http://www.ibtimes.co.uk/algae-genetically-eng...</td>\n",
       "      <td>the_phet</td>\n",
       "      <td>1447239366</td>\n",
       "      <td>ibtimes.co.uk</td>\n",
       "      <td>0</td>\n",
       "      <td>0</td>\n",
       "      <td>False</td>\n",
       "      <td>NaN</td>\n",
       "      <td>NaN</td>\n",
       "      <td>3se6lu</td>\n",
       "      <td>1073</td>\n",
       "      <td>NaN</td>\n",
       "      <td>False</td>\n",
       "      <td>/r/science/comments/3se6lu/algae_has_been_gene...</td>\n",
       "      <td>6705</td>\n",
       "      <td>NaN</td>\n",
       "      <td>science</td>\n",
       "      <td>http://b.thumbs.redditmedia.com/y1CGKgl69hKw-s...</td>\n",
       "      <td>Algae has been genetically engineered to kill ...</td>\n",
       "      <td>6705</td>\n",
       "      <td>Counter({'alga': 11, 'drug': 9, 'cell': 8, 'ca...</td>\n",
       "      <td>2352</td>\n",
       "      <td>2352</td>\n",
       "    </tr>\n",
       "    <tr>\n",
       "      <th>1</th>\n",
       "      <td>[Derek Keats Flickr, Hannah Osborne, Marc Cirera]</td>\n",
       "      <td>{u'toxic': 1.01308139535, u'cancer': 1.0261627...</td>\n",
       "      <td>2015-11-10 16:00:00+00:00</td>\n",
       "      <td>Algae has been genetically engineered to kill ...</td>\n",
       "      <td>Algae has been genetically engineered to kill ...</td>\n",
       "      <td>http://www.ibtimes.co.uk/algae-genetically-eng...</td>\n",
       "      <td>the_phet</td>\n",
       "      <td>1447239366</td>\n",
       "      <td>ibtimes.co.uk</td>\n",
       "      <td>0</td>\n",
       "      <td>0</td>\n",
       "      <td>False</td>\n",
       "      <td>NaN</td>\n",
       "      <td>NaN</td>\n",
       "      <td>3se6lu</td>\n",
       "      <td>1073</td>\n",
       "      <td>NaN</td>\n",
       "      <td>False</td>\n",
       "      <td>/r/science/comments/3se6lu/algae_has_been_gene...</td>\n",
       "      <td>6706</td>\n",
       "      <td>NaN</td>\n",
       "      <td>science</td>\n",
       "      <td>http://b.thumbs.redditmedia.com/y1CGKgl69hKw-s...</td>\n",
       "      <td>Algae has been genetically engineered to kill ...</td>\n",
       "      <td>6706</td>\n",
       "      <td>Counter({'alga': 11, 'drug': 9, 'cell': 8, 'ca...</td>\n",
       "      <td>2352</td>\n",
       "      <td>2352</td>\n",
       "    </tr>\n",
       "    <tr>\n",
       "      <th>2</th>\n",
       "      <td>[Derek Keats Flickr, Hannah Osborne, Marc Cirera]</td>\n",
       "      <td>{u'toxic': 1.01308139535, u'cancer': 1.0261627...</td>\n",
       "      <td>2015-11-10 16:00:00+00:00</td>\n",
       "      <td>Algae has been genetically engineered to kill ...</td>\n",
       "      <td>Algae has been genetically engineered to kill ...</td>\n",
       "      <td>http://www.ibtimes.co.uk/algae-genetically-eng...</td>\n",
       "      <td>the_phet</td>\n",
       "      <td>1447239366</td>\n",
       "      <td>ibtimes.co.uk</td>\n",
       "      <td>0</td>\n",
       "      <td>0</td>\n",
       "      <td>False</td>\n",
       "      <td>NaN</td>\n",
       "      <td>NaN</td>\n",
       "      <td>3se6lu</td>\n",
       "      <td>1073</td>\n",
       "      <td>NaN</td>\n",
       "      <td>False</td>\n",
       "      <td>/r/science/comments/3se6lu/algae_has_been_gene...</td>\n",
       "      <td>6708</td>\n",
       "      <td>NaN</td>\n",
       "      <td>science</td>\n",
       "      <td>http://b.thumbs.redditmedia.com/y1CGKgl69hKw-s...</td>\n",
       "      <td>Algae has been genetically engineered to kill ...</td>\n",
       "      <td>6708</td>\n",
       "      <td>Counter({'alga': 11, 'drug': 9, 'cell': 8, 'ca...</td>\n",
       "      <td>2352</td>\n",
       "      <td>2352</td>\n",
       "    </tr>\n",
       "    <tr>\n",
       "      <th>3</th>\n",
       "      <td>[]</td>\n",
       "      <td>{u'diamond': 1.04316546763, u'laser': 1.008633...</td>\n",
       "      <td>None</td>\n",
       "      <td>If Q-carbon is harder than diamond, why would ...</td>\n",
       "      <td>This is a collection of 0.02, 0.03 and 0.04 ca...</td>\n",
       "      <td>http://phys.org/news/2015-11-phase-carbon-diam...</td>\n",
       "      <td>skoalbrother</td>\n",
       "      <td>1448903226</td>\n",
       "      <td>phys.org</td>\n",
       "      <td>0</td>\n",
       "      <td>0</td>\n",
       "      <td>False</td>\n",
       "      <td>NaN</td>\n",
       "      <td>NaN</td>\n",
       "      <td>3uvg0o</td>\n",
       "      <td>2216</td>\n",
       "      <td>NaN</td>\n",
       "      <td>False</td>\n",
       "      <td>/r/science/comments/3uvg0o/researchers_find_ne...</td>\n",
       "      <td>6777</td>\n",
       "      <td>NaN</td>\n",
       "      <td>science</td>\n",
       "      <td>http://b.thumbs.redditmedia.com/hZrhEdBoJp22oE...</td>\n",
       "      <td>Researchers find new phase of carbon, make dia...</td>\n",
       "      <td>6777</td>\n",
       "      <td>Counter({'diamond': 21, 'qcarbon': 15, 'carbon...</td>\n",
       "      <td>4626</td>\n",
       "      <td>4626</td>\n",
       "    </tr>\n",
       "    <tr>\n",
       "      <th>4</th>\n",
       "      <td>[]</td>\n",
       "      <td>{u'diamond': 1.04316546763, u'laser': 1.008633...</td>\n",
       "      <td>None</td>\n",
       "      <td>If Q-carbon is harder than diamond, why would ...</td>\n",
       "      <td>This is a collection of 0.02, 0.03 and 0.04 ca...</td>\n",
       "      <td>http://phys.org/news/2015-11-phase-carbon-diam...</td>\n",
       "      <td>skoalbrother</td>\n",
       "      <td>1448903226</td>\n",
       "      <td>phys.org</td>\n",
       "      <td>0</td>\n",
       "      <td>0</td>\n",
       "      <td>False</td>\n",
       "      <td>NaN</td>\n",
       "      <td>NaN</td>\n",
       "      <td>3uvg0o</td>\n",
       "      <td>2216</td>\n",
       "      <td>NaN</td>\n",
       "      <td>False</td>\n",
       "      <td>/r/science/comments/3uvg0o/researchers_find_ne...</td>\n",
       "      <td>6772</td>\n",
       "      <td>NaN</td>\n",
       "      <td>science</td>\n",
       "      <td>http://b.thumbs.redditmedia.com/hZrhEdBoJp22oE...</td>\n",
       "      <td>Researchers find new phase of carbon, make dia...</td>\n",
       "      <td>6772</td>\n",
       "      <td>Counter({'diamond': 21, 'qcarbon': 15, 'carbon...</td>\n",
       "      <td>4626</td>\n",
       "      <td>4626</td>\n",
       "    </tr>\n",
       "  </tbody>\n",
       "</table>\n",
       "</div>"
      ],
      "text/plain": [
       "                                             authors                                           keywords               publish_date                                            summary                                               text                                                url        author  created_utc         domain  downs  gilded is_self  likes media      id  num_comments  num_reports over_18                                          permalink  score  selftext subreddit  \\\n",
       "0  [Derek Keats Flickr, Hannah Osborne, Marc Cirera]  {u'toxic': 1.01308139535, u'cancer': 1.0261627...  2015-11-10 16:00:00+00:00  Algae has been genetically engineered to kill ...  Algae has been genetically engineered to kill ...  http://www.ibtimes.co.uk/algae-genetically-eng...      the_phet   1447239366  ibtimes.co.uk      0       0   False    NaN   NaN  3se6lu          1073          NaN   False  /r/science/comments/3se6lu/algae_has_been_gene...   6705       NaN   science   \n",
       "1  [Derek Keats Flickr, Hannah Osborne, Marc Cirera]  {u'toxic': 1.01308139535, u'cancer': 1.0261627...  2015-11-10 16:00:00+00:00  Algae has been genetically engineered to kill ...  Algae has been genetically engineered to kill ...  http://www.ibtimes.co.uk/algae-genetically-eng...      the_phet   1447239366  ibtimes.co.uk      0       0   False    NaN   NaN  3se6lu          1073          NaN   False  /r/science/comments/3se6lu/algae_has_been_gene...   6706       NaN   science   \n",
       "2  [Derek Keats Flickr, Hannah Osborne, Marc Cirera]  {u'toxic': 1.01308139535, u'cancer': 1.0261627...  2015-11-10 16:00:00+00:00  Algae has been genetically engineered to kill ...  Algae has been genetically engineered to kill ...  http://www.ibtimes.co.uk/algae-genetically-eng...      the_phet   1447239366  ibtimes.co.uk      0       0   False    NaN   NaN  3se6lu          1073          NaN   False  /r/science/comments/3se6lu/algae_has_been_gene...   6708       NaN   science   \n",
       "3                                                 []  {u'diamond': 1.04316546763, u'laser': 1.008633...                       None  If Q-carbon is harder than diamond, why would ...  This is a collection of 0.02, 0.03 and 0.04 ca...  http://phys.org/news/2015-11-phase-carbon-diam...  skoalbrother   1448903226       phys.org      0       0   False    NaN   NaN  3uvg0o          2216          NaN   False  /r/science/comments/3uvg0o/researchers_find_ne...   6777       NaN   science   \n",
       "4                                                 []  {u'diamond': 1.04316546763, u'laser': 1.008633...                       None  If Q-carbon is harder than diamond, why would ...  This is a collection of 0.02, 0.03 and 0.04 ca...  http://phys.org/news/2015-11-phase-carbon-diam...  skoalbrother   1448903226       phys.org      0       0   False    NaN   NaN  3uvg0o          2216          NaN   False  /r/science/comments/3uvg0o/researchers_find_ne...   6772       NaN   science   \n",
       "\n",
       "                                           thumbnail                                              title   ups                                             tokens  article_len  n_tokens  \n",
       "0  http://b.thumbs.redditmedia.com/y1CGKgl69hKw-s...  Algae has been genetically engineered to kill ...  6705  Counter({'alga': 11, 'drug': 9, 'cell': 8, 'ca...         2352      2352  \n",
       "1  http://b.thumbs.redditmedia.com/y1CGKgl69hKw-s...  Algae has been genetically engineered to kill ...  6706  Counter({'alga': 11, 'drug': 9, 'cell': 8, 'ca...         2352      2352  \n",
       "2  http://b.thumbs.redditmedia.com/y1CGKgl69hKw-s...  Algae has been genetically engineered to kill ...  6708  Counter({'alga': 11, 'drug': 9, 'cell': 8, 'ca...         2352      2352  \n",
       "3  http://b.thumbs.redditmedia.com/hZrhEdBoJp22oE...  Researchers find new phase of carbon, make dia...  6777  Counter({'diamond': 21, 'qcarbon': 15, 'carbon...         4626      4626  \n",
       "4  http://b.thumbs.redditmedia.com/hZrhEdBoJp22oE...  Researchers find new phase of carbon, make dia...  6772  Counter({'diamond': 21, 'qcarbon': 15, 'carbon...         4626      4626  "
      ]
     },
     "execution_count": 16,
     "metadata": {},
     "output_type": "execute_result"
    }
   ],
   "source": [
    "daf=pd.read_csv(\"train_articles.csv\")\n",
    "daf.head()\n"
   ]
  },
  {
   "cell_type": "markdown",
   "metadata": {},
   "source": [
    "# Normalize reddit upvote scores"
   ]
  },
  {
   "cell_type": "code",
   "execution_count": 66,
   "metadata": {
    "collapsed": false
   },
   "outputs": [
    {
     "data": {
      "text/plain": [
       "5005"
      ]
     },
     "execution_count": 66,
     "metadata": {},
     "output_type": "execute_result"
    }
   ],
   "source": [
    "df[df.subreddit == 'politics'].ups.values.astype(int).max()"
   ]
  },
  {
   "cell_type": "code",
   "execution_count": 87,
   "metadata": {
    "collapsed": false,
    "scrolled": true
   },
   "outputs": [],
   "source": [
    "subreddit = ['science', 'news', 'worldnews', 'dataisbeautiful', 'todayilearned', 'politics', 'technology', 'space', 'InternetIsBeautiful',\n",
    "             'nottheonion', 'gadgets', 'Documentaries', 'UpliftingNews', 'programming', 'datascience', 'uspolitics', 'ukpolitics',\n",
    "             'CanadaPolitics', 'Liberal', 'Conservative' , 'nba', 'soccer', 'nfl' , 'europe', 'food', 'SubredditSimulator']"
   ]
  },
  {
   "cell_type": "code",
   "execution_count": 88,
   "metadata": {
    "collapsed": false
   },
   "outputs": [
    {
     "data": {
      "text/plain": [
       "{'CanadaPolitics': 695,\n",
       " 'Conservative': 1483,\n",
       " 'Documentaries': 3892,\n",
       " 'InternetIsBeautiful': 2840,\n",
       " 'Liberal': 235,\n",
       " 'SubredditSimulator': 972,\n",
       " 'UpliftingNews': 3376,\n",
       " 'dataisbeautiful': 4997,\n",
       " 'datascience': 11,\n",
       " 'europe': 3499,\n",
       " 'food': 8902,\n",
       " 'gadgets': 3325,\n",
       " 'nba': 9072,\n",
       " 'news': 121370,\n",
       " 'nfl': 9034,\n",
       " 'nottheonion': 7767,\n",
       " 'politics': 13359,\n",
       " 'programming': 2461,\n",
       " 'science': 42561,\n",
       " 'soccer': 7582,\n",
       " 'space': 3345,\n",
       " 'technology': 8577,\n",
       " 'todayilearned': 15062,\n",
       " 'ukpolitics': 1446,\n",
       " 'uspolitics': 8,\n",
       " 'worldnews': 17804}"
      ]
     },
     "execution_count": 88,
     "metadata": {},
     "output_type": "execute_result"
    }
   ],
   "source": [
    "size = {}\n",
    "for sub in subreddit:\n",
    "     size[sub] = df[df.subreddit == sub].shape[0]\n",
    "size    "
   ]
  },
  {
   "cell_type": "code",
   "execution_count": 89,
   "metadata": {
    "collapsed": false
   },
   "outputs": [],
   "source": [
    "topscores = {}\n",
    "for sub in subreddit:\n",
    "    topscores[sub] = df[df.subreddit == sub].ups.values.astype(int).max()"
   ]
  },
  {
   "cell_type": "code",
   "execution_count": 90,
   "metadata": {
    "collapsed": false
   },
   "outputs": [
    {
     "data": {
      "text/plain": [
       "{'CanadaPolitics': 150,\n",
       " 'Conservative': 214,\n",
       " 'Documentaries': 1060,\n",
       " 'InternetIsBeautiful': 1220,\n",
       " 'Liberal': 48,\n",
       " 'SubredditSimulator': 1766,\n",
       " 'UpliftingNews': 2476,\n",
       " 'dataisbeautiful': 3078,\n",
       " 'datascience': 5,\n",
       " 'europe': 1250,\n",
       " 'food': 4785,\n",
       " 'gadgets': 2467,\n",
       " 'nba': 3760,\n",
       " 'news': 7124,\n",
       " 'nfl': 3792,\n",
       " 'nottheonion': 4348,\n",
       " 'politics': 5005,\n",
       " 'programming': 1341,\n",
       " 'science': 5136,\n",
       " 'soccer': 3208,\n",
       " 'space': 4521,\n",
       " 'technology': 5302,\n",
       " 'todayilearned': 5162,\n",
       " 'ukpolitics': 313,\n",
       " 'uspolitics': 5,\n",
       " 'worldnews': 6619}"
      ]
     },
     "execution_count": 90,
     "metadata": {},
     "output_type": "execute_result"
    }
   ],
   "source": [
    "topscores"
   ]
  },
  {
   "cell_type": "code",
   "execution_count": 44,
   "metadata": {
    "collapsed": false
   },
   "outputs": [],
   "source": [
    "minscores = {}\n",
    "for sub in subreddit:\n",
    "    minscores[sub] = df[df.subreddit == sub].ups.values.astype(int).min()"
   ]
  },
  {
   "cell_type": "code",
   "execution_count": 45,
   "metadata": {
    "collapsed": false
   },
   "outputs": [
    {
     "data": {
      "text/plain": [
       "{'CanadaPolitics': -9,\n",
       " 'Conservative': -82,\n",
       " 'Documentaries': -72,\n",
       " 'InternetIsBeautiful': -11,\n",
       " 'Liberal': -15,\n",
       " 'SubredditSimulator': -2,\n",
       " 'UpliftingNews': -42,\n",
       " 'dataisbeautiful': -34,\n",
       " 'datascience': 1,\n",
       " 'europe': -69,\n",
       " 'food': -267,\n",
       " 'gadgets': -23,\n",
       " 'nba': -72,\n",
       " 'news': -152,\n",
       " 'nfl': -123,\n",
       " 'nottheonion': -1490,\n",
       " 'politics': -92,\n",
       " 'programming': -181,\n",
       " 'science': -108,\n",
       " 'soccer': -194,\n",
       " 'space': -27,\n",
       " 'technology': -137,\n",
       " 'todayilearned': -98,\n",
       " 'ukpolitics': -71,\n",
       " 'uspolitics': 0,\n",
       " 'worldnews': -58}"
      ]
     },
     "execution_count": 45,
     "metadata": {},
     "output_type": "execute_result"
    }
   ],
   "source": [
    "minscores"
   ]
  },
  {
   "cell_type": "code",
   "execution_count": 48,
   "metadata": {
    "collapsed": true
   },
   "outputs": [],
   "source": [
    "normscore = []\n",
    "for row in df.index:\n",
    "    try:\n",
    "        normscore.append((float(df.ix[row].ups) - (minscores[df.ix[row].subreddit]))/\n",
    "         ((topscores[df.ix[row].subreddit]) - (minscores[df.ix[row].subreddit])))\n",
    "    except:\n",
    "         normscore.append('nan')"
   ]
  },
  {
   "cell_type": "code",
   "execution_count": 50,
   "metadata": {
    "collapsed": false
   },
   "outputs": [],
   "source": [
    "df['normscore'] = normscore"
   ]
  },
  {
   "cell_type": "code",
   "execution_count": 51,
   "metadata": {
    "collapsed": false
   },
   "outputs": [
    {
     "data": {
      "text/html": [
       "<div>\n",
       "<table border=\"1\" class=\"dataframe\">\n",
       "  <thead>\n",
       "    <tr style=\"text-align: right;\">\n",
       "      <th></th>\n",
       "      <th>author</th>\n",
       "      <th>body</th>\n",
       "      <th>body_html</th>\n",
       "      <th>controversiality</th>\n",
       "      <th>created</th>\n",
       "      <th>created_utc</th>\n",
       "      <th>distinguished</th>\n",
       "      <th>downs</th>\n",
       "      <th>edited</th>\n",
       "      <th>gilded</th>\n",
       "      <th>id</th>\n",
       "      <th>likes</th>\n",
       "      <th>link_id</th>\n",
       "      <th>name</th>\n",
       "      <th>num_reports</th>\n",
       "      <th>parent_id</th>\n",
       "      <th>replies</th>\n",
       "      <th>score</th>\n",
       "      <th>subreddit</th>\n",
       "      <th>ups</th>\n",
       "      <th>pid</th>\n",
       "      <th>tokens</th>\n",
       "      <th>comment_length</th>\n",
       "      <th>n_tokens</th>\n",
       "      <th>keywords</th>\n",
       "      <th>time</th>\n",
       "      <th>token_body</th>\n",
       "      <th>token_sentence</th>\n",
       "      <th>over500</th>\n",
       "      <th>norm_ups</th>\n",
       "      <th>normscore</th>\n",
       "    </tr>\n",
       "  </thead>\n",
       "  <tbody>\n",
       "    <tr>\n",
       "      <th>0</th>\n",
       "      <td>SirT6</td>\n",
       "      <td>The title sort of misses the point of the stud...</td>\n",
       "      <td>&amp;lt;div class=\"md\"&amp;gt;&amp;lt;p&amp;gt;The title sort ...</td>\n",
       "      <td>0</td>\n",
       "      <td>1447279564</td>\n",
       "      <td>1447250764</td>\n",
       "      <td>NaN</td>\n",
       "      <td>0</td>\n",
       "      <td>False</td>\n",
       "      <td>1</td>\n",
       "      <td>cwwhtv7</td>\n",
       "      <td>NaN</td>\n",
       "      <td>t3_3se6lu</td>\n",
       "      <td>t1_cwwhtv7</td>\n",
       "      <td>NaN</td>\n",
       "      <td>t3_3se6lu</td>\n",
       "      <td>{u'kind': u'Listing', u'data': {u'modhash': No...</td>\n",
       "      <td>1359</td>\n",
       "      <td>science</td>\n",
       "      <td>1359</td>\n",
       "      <td>3se6lu</td>\n",
       "      <td>Counter({'alga': 5, 'cancer': 4, 'cell': 4, 'd...</td>\n",
       "      <td>869</td>\n",
       "      <td>52</td>\n",
       "      <td>{'toxinalgae': 1.009933774834437, 'cancer': 1....</td>\n",
       "      <td>9</td>\n",
       "      <td>[title, sort, misses, point, study, title, imp...</td>\n",
       "      <td>title sort misses point study title implies al...</td>\n",
       "      <td>good</td>\n",
       "      <td>0</td>\n",
       "      <td>0.279748</td>\n",
       "    </tr>\n",
       "    <tr>\n",
       "      <th>1</th>\n",
       "      <td>DrBiochemistry</td>\n",
       "      <td>Just want to point out that until I see a deli...</td>\n",
       "      <td>&amp;lt;div class=\"md\"&amp;gt;&amp;lt;p&amp;gt;Just want to po...</td>\n",
       "      <td>0</td>\n",
       "      <td>1447277409</td>\n",
       "      <td>1447248609</td>\n",
       "      <td>NaN</td>\n",
       "      <td>0</td>\n",
       "      <td>False</td>\n",
       "      <td>0</td>\n",
       "      <td>cwwgxle</td>\n",
       "      <td>NaN</td>\n",
       "      <td>t3_3se6lu</td>\n",
       "      <td>t1_cwwgxle</td>\n",
       "      <td>NaN</td>\n",
       "      <td>t3_3se6lu</td>\n",
       "      <td>{u'kind': u'Listing', u'data': {u'modhash': No...</td>\n",
       "      <td>3209</td>\n",
       "      <td>science</td>\n",
       "      <td>3209</td>\n",
       "      <td>3se6lu</td>\n",
       "      <td>Counter({'kill': 2, 'deliveri': 2, 'cancer': 1...</td>\n",
       "      <td>307</td>\n",
       "      <td>30</td>\n",
       "      <td>{'delivery': 1.0588235294117647, 'survives': 1...</td>\n",
       "      <td>8</td>\n",
       "      <td>[want, point, see, delivery, system, 1, surviv...</td>\n",
       "      <td>want point see delivery system 1 survives gast...</td>\n",
       "      <td>good</td>\n",
       "      <td>0</td>\n",
       "      <td>0.632532</td>\n",
       "    </tr>\n",
       "    <tr>\n",
       "      <th>2</th>\n",
       "      <td>Frogblood</td>\n",
       "      <td>It's an interesting idea but the in vitro and ...</td>\n",
       "      <td>&amp;lt;div class=\"md\"&amp;gt;&amp;lt;p&amp;gt;It&amp;amp;#39;s an...</td>\n",
       "      <td>0</td>\n",
       "      <td>1447276156</td>\n",
       "      <td>1447247356</td>\n",
       "      <td>NaN</td>\n",
       "      <td>0</td>\n",
       "      <td>False</td>\n",
       "      <td>0</td>\n",
       "      <td>cwwggxu</td>\n",
       "      <td>NaN</td>\n",
       "      <td>t3_3se6lu</td>\n",
       "      <td>t1_cwwggxu</td>\n",
       "      <td>NaN</td>\n",
       "      <td>t3_3se6lu</td>\n",
       "      <td>{u'kind': u'Listing', u'data': {u'modhash': No...</td>\n",
       "      <td>133</td>\n",
       "      <td>science</td>\n",
       "      <td>133</td>\n",
       "      <td>3se6lu</td>\n",
       "      <td>Counter({'idea': 2, 'target': 2, 'overexcit': ...</td>\n",
       "      <td>432</td>\n",
       "      <td>39</td>\n",
       "      <td>{'tumour': 1.0217391304347827, 'targeting': 1....</td>\n",
       "      <td>8</td>\n",
       "      <td>[interesting, idea, vitro, vivo, data, prelimi...</td>\n",
       "      <td>interesting idea vitro vivo data preliminary d...</td>\n",
       "      <td>bad</td>\n",
       "      <td>0</td>\n",
       "      <td>0.045957</td>\n",
       "    </tr>\n",
       "    <tr>\n",
       "      <th>3</th>\n",
       "      <td>mijn_ikke</td>\n",
       "      <td>Just waiting until somebody smarter than me co...</td>\n",
       "      <td>&amp;lt;div class=\"md\"&amp;gt;&amp;lt;p&amp;gt;Just waiting un...</td>\n",
       "      <td>0</td>\n",
       "      <td>1447275611</td>\n",
       "      <td>1447246811</td>\n",
       "      <td>NaN</td>\n",
       "      <td>0</td>\n",
       "      <td>1447248944.0</td>\n",
       "      <td>1</td>\n",
       "      <td>cwwga6g</td>\n",
       "      <td>NaN</td>\n",
       "      <td>t3_3se6lu</td>\n",
       "      <td>t1_cwwga6g</td>\n",
       "      <td>NaN</td>\n",
       "      <td>t3_3se6lu</td>\n",
       "      <td>{u'kind': u'Listing', u'data': {u'modhash': No...</td>\n",
       "      <td>773</td>\n",
       "      <td>science</td>\n",
       "      <td>773</td>\n",
       "      <td>3se6lu</td>\n",
       "      <td>Counter({'thank': 1, 'gold': 1, 'point': 1, 'e...</td>\n",
       "      <td>163</td>\n",
       "      <td>12</td>\n",
       "      <td>{'somebody': 1.0517241379310345, 'gold': 1.051...</td>\n",
       "      <td>8</td>\n",
       "      <td>[waiting, somebody, smarter, comes, along, poi...</td>\n",
       "      <td>waiting somebody smarter comes along point blo...</td>\n",
       "      <td>good</td>\n",
       "      <td>0</td>\n",
       "      <td>0.168002</td>\n",
       "    </tr>\n",
       "    <tr>\n",
       "      <th>4</th>\n",
       "      <td>awhitt8</td>\n",
       "      <td>Yes the title is sensationalized.\\n\\n&amp;gt;The m...</td>\n",
       "      <td>&amp;lt;div class=\"md\"&amp;gt;&amp;lt;p&amp;gt;Yes the title i...</td>\n",
       "      <td>0</td>\n",
       "      <td>1447284967</td>\n",
       "      <td>1447256167</td>\n",
       "      <td>NaN</td>\n",
       "      <td>0</td>\n",
       "      <td>1447259263.0</td>\n",
       "      <td>0</td>\n",
       "      <td>cwwkopn</td>\n",
       "      <td>NaN</td>\n",
       "      <td>t3_3se6lu</td>\n",
       "      <td>t1_cwwkopn</td>\n",
       "      <td>NaN</td>\n",
       "      <td>t3_3se6lu</td>\n",
       "      <td>{u'kind': u'Listing', u'data': {u'modhash': No...</td>\n",
       "      <td>16</td>\n",
       "      <td>science</td>\n",
       "      <td>16</td>\n",
       "      <td>3se6lu</td>\n",
       "      <td>Counter({'drug': 5, 'deliveri': 4, 'materi': 3...</td>\n",
       "      <td>1447</td>\n",
       "      <td>104</td>\n",
       "      <td>{'delivery': 1.030612244897959, 'title': 1.015...</td>\n",
       "      <td>10</td>\n",
       "      <td>[yes, title, sensationalized, gt, intensively,...</td>\n",
       "      <td>yes title sensationalized gt intensively inves...</td>\n",
       "      <td>bad</td>\n",
       "      <td>0</td>\n",
       "      <td>0.023646</td>\n",
       "    </tr>\n",
       "  </tbody>\n",
       "</table>\n",
       "</div>"
      ],
      "text/plain": [
       "           author                                               body                                          body_html  controversiality     created  created_utc distinguished downs        edited gilded       id likes    link_id        name num_reports  parent_id                                            replies score subreddit   ups     pid                                             tokens  comment_length  n_tokens                                           keywords  time  \\\n",
       "0           SirT6  The title sort of misses the point of the stud...  &lt;div class=\"md\"&gt;&lt;p&gt;The title sort ...                 0  1447279564   1447250764           NaN     0         False      1  cwwhtv7   NaN  t3_3se6lu  t1_cwwhtv7         NaN  t3_3se6lu  {u'kind': u'Listing', u'data': {u'modhash': No...  1359   science  1359  3se6lu  Counter({'alga': 5, 'cancer': 4, 'cell': 4, 'd...             869        52  {'toxinalgae': 1.009933774834437, 'cancer': 1....     9   \n",
       "1  DrBiochemistry  Just want to point out that until I see a deli...  &lt;div class=\"md\"&gt;&lt;p&gt;Just want to po...                 0  1447277409   1447248609           NaN     0         False      0  cwwgxle   NaN  t3_3se6lu  t1_cwwgxle         NaN  t3_3se6lu  {u'kind': u'Listing', u'data': {u'modhash': No...  3209   science  3209  3se6lu  Counter({'kill': 2, 'deliveri': 2, 'cancer': 1...             307        30  {'delivery': 1.0588235294117647, 'survives': 1...     8   \n",
       "2       Frogblood  It's an interesting idea but the in vitro and ...  &lt;div class=\"md\"&gt;&lt;p&gt;It&amp;#39;s an...                 0  1447276156   1447247356           NaN     0         False      0  cwwggxu   NaN  t3_3se6lu  t1_cwwggxu         NaN  t3_3se6lu  {u'kind': u'Listing', u'data': {u'modhash': No...   133   science   133  3se6lu  Counter({'idea': 2, 'target': 2, 'overexcit': ...             432        39  {'tumour': 1.0217391304347827, 'targeting': 1....     8   \n",
       "3       mijn_ikke  Just waiting until somebody smarter than me co...  &lt;div class=\"md\"&gt;&lt;p&gt;Just waiting un...                 0  1447275611   1447246811           NaN     0  1447248944.0      1  cwwga6g   NaN  t3_3se6lu  t1_cwwga6g         NaN  t3_3se6lu  {u'kind': u'Listing', u'data': {u'modhash': No...   773   science   773  3se6lu  Counter({'thank': 1, 'gold': 1, 'point': 1, 'e...             163        12  {'somebody': 1.0517241379310345, 'gold': 1.051...     8   \n",
       "4         awhitt8  Yes the title is sensationalized.\\n\\n&gt;The m...  &lt;div class=\"md\"&gt;&lt;p&gt;Yes the title i...                 0  1447284967   1447256167           NaN     0  1447259263.0      0  cwwkopn   NaN  t3_3se6lu  t1_cwwkopn         NaN  t3_3se6lu  {u'kind': u'Listing', u'data': {u'modhash': No...    16   science    16  3se6lu  Counter({'drug': 5, 'deliveri': 4, 'materi': 3...            1447       104  {'delivery': 1.030612244897959, 'title': 1.015...    10   \n",
       "\n",
       "                                          token_body                                     token_sentence over500  norm_ups  normscore  \n",
       "0  [title, sort, misses, point, study, title, imp...  title sort misses point study title implies al...    good         0   0.279748  \n",
       "1  [want, point, see, delivery, system, 1, surviv...  want point see delivery system 1 survives gast...    good         0   0.632532  \n",
       "2  [interesting, idea, vitro, vivo, data, prelimi...  interesting idea vitro vivo data preliminary d...     bad         0   0.045957  \n",
       "3  [waiting, somebody, smarter, comes, along, poi...  waiting somebody smarter comes along point blo...    good         0   0.168002  \n",
       "4  [yes, title, sensationalized, gt, intensively,...  yes title sensationalized gt intensively inves...     bad         0   0.023646  "
      ]
     },
     "execution_count": 51,
     "metadata": {},
     "output_type": "execute_result"
    }
   ],
   "source": [
    "df.head()"
   ]
  },
  {
   "cell_type": "code",
   "execution_count": 54,
   "metadata": {
    "collapsed": false
   },
   "outputs": [
    {
     "name": "stdout",
     "output_type": "stream",
     "text": [
      "The number of votes needed to break the 95th percentile is...\n",
      "0.1875\n"
     ]
    },
    {
     "data": {
      "image/png": "[encoded data removed]",
      "text/plain": [
       "<matplotlib.figure.Figure at 0x23bfef98>"
      ]
     },
     "metadata": {},
     "output_type": "display_data"
    }
   ],
   "source": [
    "plt.hist(df.normscore)\n",
    "plt.xlabel('Normalized Up Votes')\n",
    "plt.ylabel('Normalized Frequency')\n",
    "plt.title(\"Normalized Frequency of Up Votes\")\n",
    "p95 = np.percentile(df.normscore, 95)\n",
    "plt.axvline(p95, color='g', label = '95th Quantile')\n",
    "plt.axvline(np.average(df.normscore), label = \"mean\", c = 'b')\n",
    "plt.axvline(np.median(df.normscore) , label = \"median\", c = 'r')\n",
    "plt.legend(frameon=False, loc='upper right')\n",
    "print \"The number of votes needed to break the 95th percentile is...\" \n",
    "print p95"
   ]
  },
  {
   "cell_type": "code",
   "execution_count": 59,
   "metadata": {
    "collapsed": true
   },
   "outputs": [],
   "source": [
    "def over95th(upvote):\n",
    "    if float(upvote) >= 0.1875:\n",
    "        return 1\n",
    "    else:\n",
    "        return 0\n",
    "df['GoodComment'] = df.normscore.apply(over95th)"
   ]
  },
  {
   "cell_type": "code",
   "execution_count": 118,
   "metadata": {
    "collapsed": true
   },
   "outputs": [],
   "source": [
    "from sklearn.feature_extraction.text import TfidfVectorizer\n",
    "def make_xy(df, vectorizer=None):\n",
    "    #Your code here    \n",
    "    if vectorizer is None:\n",
    "        vectorizer = TfidfVectorizer(min_df=1, stop_words='english')\n",
    "    X = vectorizer.fit_transform(df.token_sentence)\n",
    "    X = X.tocsc()  # some versions of sklearn return COO format\n",
    "    y = (df.over500 == 'good').values.astype(np.int)\n",
    "    return X, y\n",
    "X, y = make_xy(df)"
   ]
  },
  {
   "cell_type": "code",
   "execution_count": 119,
   "metadata": {
    "collapsed": false
   },
   "outputs": [
    {
     "data": {
      "text/plain": [
       "((293675, 119136), (293675L,))"
      ]
     },
     "execution_count": 119,
     "metadata": {},
     "output_type": "execute_result"
    }
   ],
   "source": [
    "X.shape, y.shape"
   ]
  },
  {
   "cell_type": "markdown",
   "metadata": {},
   "source": [
    "# Baseline Model"
   ]
  },
  {
   "cell_type": "code",
   "execution_count": 120,
   "metadata": {
    "collapsed": false
   },
   "outputs": [
    {
     "name": "stdout",
     "output_type": "stream",
     "text": [
      "Accuracy when predicting all are good commnets :  0.0202264407934\n",
      "Accuracy when predicting all are bad commetns =  0.979773559207\n"
     ]
    }
   ],
   "source": [
    "from sklearn import metrics\n",
    "X_train, X_test, y_train, y_test = train_test_split(X, y, test_size=0.2)\n",
    "print 'Accuracy when predicting all are good commnets : ', metrics.accuracy_score(y_test, np.ones(y_test.shape))\n",
    "print 'Accuracy when predicting all are bad commetns = ', metrics.accuracy_score(y_test,np.zeros(y_test.shape))"
   ]
  },
  {
   "cell_type": "markdown",
   "metadata": {},
   "source": [
    "# Naive Bayes "
   ]
  },
  {
   "cell_type": "code",
   "execution_count": 85,
   "metadata": {
    "collapsed": false
   },
   "outputs": [
    {
     "name": "stdout",
     "output_type": "stream",
     "text": [
      "MN Accuracy: 95.10%\n"
     ]
    }
   ],
   "source": [
    "from sklearn.naive_bayes import MultinomialNB\n",
    "from sklearn.cross_validation import train_test_split\n",
    "xtrain, xtest, ytrain, ytest = train_test_split(X, y)\n",
    "clf = MultinomialNB().fit(xtrain, ytrain)\n",
    "print \"MN Accuracy: %0.2f%%\" % (100 * clf.score(xtest, ytest))"
   ]
  },
  {
   "cell_type": "code",
   "execution_count": 86,
   "metadata": {
    "collapsed": false
   },
   "outputs": [
    {
     "name": "stdout",
     "output_type": "stream",
     "text": [
      "Accuracy on training data: 0.95\n",
      "Accuracy on test data:     0.95\n"
     ]
    }
   ],
   "source": [
    "training_accuracy = clf.score(xtrain, ytrain)\n",
    "test_accuracy = clf.score(xtest, ytest)\n",
    "\n",
    "print \"Accuracy on training data: %0.2f\" % (training_accuracy)\n",
    "print \"Accuracy on test data:     %0.2f\" % (test_accuracy)"
   ]
  },
  {
   "cell_type": "code",
   "execution_count": 87,
   "metadata": {
    "collapsed": true
   },
   "outputs": [],
   "source": [
    "from sklearn.cross_validation import KFold\n",
    "def cv_score(clf, X, y, scorefunc):\n",
    "    result = 0.\n",
    "    nfold = 5\n",
    "    for train, test in KFold(y.size, nfold): # split data into train/test groups, 5 times\n",
    "        clf.fit(X[train], y[train]) # fit\n",
    "        result += scorefunc(clf, X[test], y[test]) # evaluate score function on held-out data\n",
    "    return result / nfold # average"
   ]
  },
  {
   "cell_type": "code",
   "execution_count": 88,
   "metadata": {
    "collapsed": true
   },
   "outputs": [],
   "source": [
    "def log_likelihood(clf, x, y):\n",
    "    prob = clf.predict_log_proba(x)\n",
    "    bad = y == 0\n",
    "    good = ~bad\n",
    "    return prob[bad, 0].sum() + prob[good, 1].sum()"
   ]
  },
  {
   "cell_type": "code",
   "execution_count": 89,
   "metadata": {
    "collapsed": false
   },
   "outputs": [],
   "source": [
    "from sklearn.cross_validation import train_test_split\n",
    "itrain, itest = train_test_split(xrange(df.shape[0]), train_size=0.7)\n",
    "mask=np.ones(df.shape[0], dtype='int')\n",
    "mask[itrain]=1\n",
    "mask[itest]=0\n",
    "mask = (mask==1)"
   ]
  },
  {
   "cell_type": "code",
   "execution_count": 90,
   "metadata": {
    "collapsed": false
   },
   "outputs": [],
   "source": [
    "#the grid of parameters to search over\n",
    "alphas = [0, .1, 1, 5, 10, 50]\n",
    "min_dfs = [1e-5, 1e-4, 1e-3, 1e-2, 1e-1]\n",
    "\n",
    "#Find the best value for alpha and min_df, and the best classifier\n",
    "best_alpha = None\n",
    "best_min_df = None\n",
    "maxscore=-np.inf\n",
    "for alpha in alphas:\n",
    "    for min_df in min_dfs:         \n",
    "        vectorizer = TfidfVectorizer(min_df = min_df)       \n",
    "        Xthis, ythis = make_xy(df, vectorizer)\n",
    "        Xtrainthis=Xthis[mask]\n",
    "        ytrainthis=ythis[mask]\n",
    "        #your code here\n",
    "        clf = MultinomialNB(alpha=alpha)\n",
    "        cvscore = cv_score(clf, Xtrainthis, ytrainthis, log_likelihood)\n",
    "\n",
    "        if cvscore > maxscore:\n",
    "            maxscore = cvscore\n",
    "            best_alpha, best_min_df = alpha, min_df"
   ]
  },
  {
   "cell_type": "code",
   "execution_count": 96,
   "metadata": {
    "collapsed": false
   },
   "outputs": [
    {
     "name": "stdout",
     "output_type": "stream",
     "text": [
      "alpha: 50.000000\n",
      "min_df: 0.100000\n"
     ]
    }
   ],
   "source": [
    "print \"alpha: %f\" % best_alpha\n",
    "print \"min_df: %f\" % best_min_df"
   ]
  },
  {
   "cell_type": "code",
   "execution_count": 97,
   "metadata": {
    "collapsed": false
   },
   "outputs": [
    {
     "name": "stdout",
     "output_type": "stream",
     "text": [
      "Accuracy on training data: 0.95\n",
      "Accuracy on test data:     0.95\n"
     ]
    }
   ],
   "source": [
    "vectorizer = TfidfVectorizer(min_df=best_min_df)\n",
    "X, y = make_xy(df, vectorizer)\n",
    "xtrain=X[mask]\n",
    "ytrain=y[mask]\n",
    "xtest=X[~mask]\n",
    "ytest=y[~mask]\n",
    "\n",
    "clf = MultinomialNB(alpha=best_alpha).fit(xtrain, ytrain)\n",
    "\n",
    "# Your code here. Print the accuracy on the test and training dataset\n",
    "training_accuracy = clf.score(xtrain, ytrain)\n",
    "test_accuracy = clf.score(xtest, ytest)\n",
    "\n",
    "print \"Accuracy on training data: %0.2f\" % (training_accuracy)\n",
    "print \"Accuracy on test data:     %0.2f\" % (test_accuracy)"
   ]
  },
  {
   "cell_type": "code",
   "execution_count": 98,
   "metadata": {
    "collapsed": false
   },
   "outputs": [
    {
     "name": "stdout",
     "output_type": "stream",
     "text": [
      "[[83684     0]\n",
      " [ 4419     0]]\n"
     ]
    }
   ],
   "source": [
    "from sklearn.metrics import confusion_matrix\n",
    "print confusion_matrix(ytest, clf.predict(xtest))"
   ]
  },
  {
   "cell_type": "code",
   "execution_count": 99,
   "metadata": {
    "collapsed": false
   },
   "outputs": [
    {
     "name": "stdout",
     "output_type": "stream",
     "text": [
      "Good words\t     P(over 100 upvote | word)\n",
      "              people 0.05\n",
      "                like 0.05\n",
      "Bad words\t     P(over 100 upvote | word)\n",
      "              people 0.05\n",
      "                like 0.05\n"
     ]
    }
   ],
   "source": [
    "words = np.array(vectorizer.get_feature_names())\n",
    "\n",
    "x = np.eye(xtest.shape[1])\n",
    "probs = clf.predict_log_proba(x)[:, 0]\n",
    "ind = np.argsort(probs)\n",
    "\n",
    "good_words = words[ind[:10]]\n",
    "bad_words = words[ind[-10:]]\n",
    "\n",
    "good_prob = probs[ind[:10]]\n",
    "bad_prob = probs[ind[-10:]]\n",
    "\n",
    "print \"Good words\\t     P(over 100 upvote | word)\"\n",
    "for w, p in zip(good_words, good_prob):\n",
    "    print \"%20s\" % w, \"%0.2f\" % (1 - np.exp(p))\n",
    "    \n",
    "print \"Bad words\\t     P(over 100 upvote | word)\"\n",
    "for w, p in zip(bad_words, bad_prob):\n",
    "    print \"%20s\" % w, \"%0.2f\" % (1 - np.exp(p))"
   ]
  },
  {
   "cell_type": "code",
   "execution_count": 103,
   "metadata": {
    "collapsed": true
   },
   "outputs": [],
   "source": [
    "def calibration_plot(clf, xtest, ytest):\n",
    "    prob = clf.predict_proba(xtest)[:, 1]\n",
    "    outcome = ytest\n",
    "    data = pd.DataFrame(dict(prob=prob, outcome=outcome))\n",
    "\n",
    "    #group outcomes into bins of similar probability\n",
    "    bins = np.linspace(0, 1, 20)\n",
    "    cuts = pd.cut(prob, bins)\n",
    "    binwidth = bins[1] - bins[0]\n",
    "    \n",
    "    #freshness ratio and number of examples in each bin\n",
    "    cal = data.groupby(cuts).outcome.agg(['mean', 'count'])\n",
    "    cal['pmid'] = (bins[:-1] + bins[1:]) / 2\n",
    "    cal['sig'] = np.sqrt(cal.pmid * (1 - cal.pmid) / cal['count'])\n",
    "        \n",
    "    #the calibration plot\n",
    "    ax = plt.subplot2grid((3, 1), (0, 0), rowspan=2)\n",
    "    p = plt.errorbar(cal.pmid, cal['mean'], cal['sig'])\n",
    "    plt.plot(cal.pmid, cal.pmid, linestyle='--', lw=1, color='k')\n",
    "    plt.ylabel(\"Empirical P(Good)\")\n",
    "    \n",
    "    #the distribution of P(fresh)\n",
    "    ax = plt.subplot2grid((3, 1), (2, 0), sharex=ax)\n",
    "    \n",
    "    plt.bar(left=cal.pmid - binwidth / 2, height=cal['count'],\n",
    "            width=.95 * (bins[1] - bins[0]),\n",
    "            fc=p[0].get_color())\n",
    "    \n",
    "    plt.xlabel(\"Predicted P(Good)\")\n",
    "    plt.ylabel(\"Number\")"
   ]
  },
  {
   "cell_type": "code",
   "execution_count": 104,
   "metadata": {
    "collapsed": false
   },
   "outputs": [
    {
     "data": {
      "image/png": "[encoded data removed]",
      "text/plain": [
       "<matplotlib.figure.Figure at 0x65648b00>"
      ]
     },
     "metadata": {},
     "output_type": "display_data"
    }
   ],
   "source": [
    "calibration_plot(clf, xtest, ytest)"
   ]
  },
  {
   "cell_type": "markdown",
   "metadata": {},
   "source": [
    "# Conclusion is that bag of word represnetaiton does terribly when looking at entire subreddits"
   ]
  },
  {
   "cell_type": "code",
   "execution_count": 106,
   "metadata": {
    "collapsed": true
   },
   "outputs": [],
   "source": [
    "politics = df[df.subreddit == 'politics']"
   ]
  },
  {
   "cell_type": "code",
   "execution_count": 107,
   "metadata": {
    "collapsed": false
   },
   "outputs": [
    {
     "data": {
      "text/html": [
       "<div>\n",
       "<table border=\"1\" class=\"dataframe\">\n",
       "  <thead>\n",
       "    <tr style=\"text-align: right;\">\n",
       "      <th></th>\n",
       "      <th>author</th>\n",
       "      <th>body</th>\n",
       "      <th>body_html</th>\n",
       "      <th>controversiality</th>\n",
       "      <th>created</th>\n",
       "      <th>created_utc</th>\n",
       "      <th>distinguished</th>\n",
       "      <th>downs</th>\n",
       "      <th>edited</th>\n",
       "      <th>gilded</th>\n",
       "      <th>id</th>\n",
       "      <th>likes</th>\n",
       "      <th>link_id</th>\n",
       "      <th>name</th>\n",
       "      <th>num_reports</th>\n",
       "      <th>parent_id</th>\n",
       "      <th>replies</th>\n",
       "      <th>score</th>\n",
       "      <th>subreddit</th>\n",
       "      <th>ups</th>\n",
       "      <th>pid</th>\n",
       "      <th>tokens</th>\n",
       "      <th>comment_length</th>\n",
       "      <th>n_tokens</th>\n",
       "      <th>keywords</th>\n",
       "      <th>time</th>\n",
       "      <th>token_body</th>\n",
       "      <th>token_sentence</th>\n",
       "      <th>over500</th>\n",
       "      <th>norm_ups</th>\n",
       "      <th>normscore</th>\n",
       "      <th>GoodComment</th>\n",
       "    </tr>\n",
       "  </thead>\n",
       "  <tbody>\n",
       "    <tr>\n",
       "      <th>56919</th>\n",
       "      <td>whocaresguy</td>\n",
       "      <td>start calling conservative radio complaining a...</td>\n",
       "      <td>&amp;lt;div class=\"md\"&amp;gt;&amp;lt;p&amp;gt;start calling c...</td>\n",
       "      <td>0</td>\n",
       "      <td>1447028766</td>\n",
       "      <td>1446999966</td>\n",
       "      <td>NaN</td>\n",
       "      <td>0</td>\n",
       "      <td>1447044336.0</td>\n",
       "      <td>1</td>\n",
       "      <td>cwsy3gl</td>\n",
       "      <td>NaN</td>\n",
       "      <td>t3_3s0878</td>\n",
       "      <td>t1_cwsy3gl</td>\n",
       "      <td>NaN</td>\n",
       "      <td>t3_3s0878</td>\n",
       "      <td>{u'kind': u'Listing', u'data': {u'modhash': No...</td>\n",
       "      <td>980</td>\n",
       "      <td>politics</td>\n",
       "      <td>980</td>\n",
       "      <td>3s0878</td>\n",
       "      <td>Counter({'use': 3, 'obama': 2, 'like': 2, 'ins...</td>\n",
       "      <td>440</td>\n",
       "      <td>38</td>\n",
       "      <td>{'term': 1.0202702702702702, 'used': 1.0202702...</td>\n",
       "      <td>11</td>\n",
       "      <td>[start, calling, conservative, radio, complain...</td>\n",
       "      <td>start calling conservative radio complaining o...</td>\n",
       "      <td>good</td>\n",
       "      <td>0</td>\n",
       "      <td>0.210320</td>\n",
       "      <td>1</td>\n",
       "    </tr>\n",
       "    <tr>\n",
       "      <th>56920</th>\n",
       "      <td>TogaLord</td>\n",
       "      <td>They know. That's why they'll do it.</td>\n",
       "      <td>&amp;lt;div class=\"md\"&amp;gt;&amp;lt;p&amp;gt;They know. That...</td>\n",
       "      <td>0</td>\n",
       "      <td>1447021979</td>\n",
       "      <td>1446993179</td>\n",
       "      <td>NaN</td>\n",
       "      <td>0</td>\n",
       "      <td>False</td>\n",
       "      <td>0</td>\n",
       "      <td>cwsuzm8</td>\n",
       "      <td>NaN</td>\n",
       "      <td>t3_3s0878</td>\n",
       "      <td>t1_cwsuzm8</td>\n",
       "      <td>NaN</td>\n",
       "      <td>t3_3s0878</td>\n",
       "      <td>{u'kind': u'Listing', u'data': {u'modhash': No...</td>\n",
       "      <td>2139</td>\n",
       "      <td>politics</td>\n",
       "      <td>2139</td>\n",
       "      <td>3s0878</td>\n",
       "      <td>Counter({'theyll': 1, 'know': 1, 'that': 1})</td>\n",
       "      <td>36</td>\n",
       "      <td>3</td>\n",
       "      <td>{'theyll': 1.2142857142857142, 'know': 1.21428...</td>\n",
       "      <td>9</td>\n",
       "      <td>[know, ll]</td>\n",
       "      <td>know ll</td>\n",
       "      <td>good</td>\n",
       "      <td>0</td>\n",
       "      <td>0.437708</td>\n",
       "      <td>1</td>\n",
       "    </tr>\n",
       "    <tr>\n",
       "      <th>56921</th>\n",
       "      <td>dzrtguy</td>\n",
       "      <td>Then we'll build a new internet with cocaine a...</td>\n",
       "      <td>&amp;lt;div class=\"md\"&amp;gt;&amp;lt;p&amp;gt;Then we&amp;amp;#39...</td>\n",
       "      <td>0</td>\n",
       "      <td>1447030760</td>\n",
       "      <td>1447001960</td>\n",
       "      <td>NaN</td>\n",
       "      <td>0</td>\n",
       "      <td>False</td>\n",
       "      <td>0</td>\n",
       "      <td>cwsz8ng</td>\n",
       "      <td>NaN</td>\n",
       "      <td>t3_3s0878</td>\n",
       "      <td>t1_cwsz8ng</td>\n",
       "      <td>NaN</td>\n",
       "      <td>t3_3s0878</td>\n",
       "      <td>{u'kind': u'Listing', u'data': {u'modhash': No...</td>\n",
       "      <td>49</td>\n",
       "      <td>politics</td>\n",
       "      <td>49</td>\n",
       "      <td>3s0878</td>\n",
       "      <td>Counter({'encrypt': 1, 'well': 1, 'cocain': 1,...</td>\n",
       "      <td>73</td>\n",
       "      <td>7</td>\n",
       "      <td>{'hookers': 1.125, 'encryption': 1.125, 'cocai...</td>\n",
       "      <td>11</td>\n",
       "      <td>[ll, build, new, internet, cocaine, hookers, e...</td>\n",
       "      <td>ll build new internet cocaine hookers encryption</td>\n",
       "      <td>bad</td>\n",
       "      <td>0</td>\n",
       "      <td>0.027663</td>\n",
       "      <td>0</td>\n",
       "    </tr>\n",
       "    <tr>\n",
       "      <th>56922</th>\n",
       "      <td>No_Fence</td>\n",
       "      <td>Some fun quotes regarding the TPP: \\n\\n“The ma...</td>\n",
       "      <td>&amp;lt;div class=\"md\"&amp;gt;&amp;lt;p&amp;gt;Some fun quotes...</td>\n",
       "      <td>0</td>\n",
       "      <td>1447024523</td>\n",
       "      <td>1446995723</td>\n",
       "      <td>NaN</td>\n",
       "      <td>0</td>\n",
       "      <td>False</td>\n",
       "      <td>0</td>\n",
       "      <td>cwsw0ul</td>\n",
       "      <td>NaN</td>\n",
       "      <td>t3_3s0878</td>\n",
       "      <td>t1_cwsw0ul</td>\n",
       "      <td>NaN</td>\n",
       "      <td>t3_3s0878</td>\n",
       "      <td>{u'kind': u'Listing', u'data': {u'modhash': No...</td>\n",
       "      <td>888</td>\n",
       "      <td>politics</td>\n",
       "      <td>888</td>\n",
       "      <td>3s0878</td>\n",
       "      <td>Counter({'tpp': 7, 'trade': 3, 'corpor': 3, '\\...</td>\n",
       "      <td>1374</td>\n",
       "      <td>105</td>\n",
       "      <td>{'rights': 1.0140845070422535, 'wall': 1.01408...</td>\n",
       "      <td>10</td>\n",
       "      <td>[fun, quotes, regarding, tpp, majority, congre...</td>\n",
       "      <td>fun quotes regarding tpp majority congress kep...</td>\n",
       "      <td>good</td>\n",
       "      <td>0</td>\n",
       "      <td>0.192270</td>\n",
       "      <td>1</td>\n",
       "    </tr>\n",
       "    <tr>\n",
       "      <th>56923</th>\n",
       "      <td>lanadapter</td>\n",
       "      <td>Apparently this bill is so bad it actually cam...</td>\n",
       "      <td>&amp;lt;div class=\"md\"&amp;gt;&amp;lt;p&amp;gt;Apparently this...</td>\n",
       "      <td>0</td>\n",
       "      <td>1447029320</td>\n",
       "      <td>1447000520</td>\n",
       "      <td>NaN</td>\n",
       "      <td>0</td>\n",
       "      <td>False</td>\n",
       "      <td>0</td>\n",
       "      <td>cwsyehh</td>\n",
       "      <td>NaN</td>\n",
       "      <td>t3_3s0878</td>\n",
       "      <td>t1_cwsyehh</td>\n",
       "      <td>NaN</td>\n",
       "      <td>t3_3s0878</td>\n",
       "      <td>{u'kind': u'Listing', u'data': {u'modhash': No...</td>\n",
       "      <td>142</td>\n",
       "      <td>politics</td>\n",
       "      <td>142</td>\n",
       "      <td>3s0878</td>\n",
       "      <td>Counter({'life': 1, 'actual': 1, 'bill': 1, 's...</td>\n",
       "      <td>96</td>\n",
       "      <td>8</td>\n",
       "      <td>{'life': 1.088235294117647, 'started': 1.08823...</td>\n",
       "      <td>11</td>\n",
       "      <td>[apparently, bill, bad, actually, came, life, ...</td>\n",
       "      <td>apparently bill bad actually came life started...</td>\n",
       "      <td>bad</td>\n",
       "      <td>0</td>\n",
       "      <td>0.045909</td>\n",
       "      <td>0</td>\n",
       "    </tr>\n",
       "  </tbody>\n",
       "</table>\n",
       "</div>"
      ],
      "text/plain": [
       "            author                                               body                                          body_html  controversiality     created  created_utc distinguished downs        edited gilded       id likes    link_id        name num_reports  parent_id                                            replies score subreddit   ups     pid                                             tokens  comment_length  n_tokens                                           keywords  time  \\\n",
       "56919  whocaresguy  start calling conservative radio complaining a...  &lt;div class=\"md\"&gt;&lt;p&gt;start calling c...                 0  1447028766   1446999966           NaN     0  1447044336.0      1  cwsy3gl   NaN  t3_3s0878  t1_cwsy3gl         NaN  t3_3s0878  {u'kind': u'Listing', u'data': {u'modhash': No...   980  politics   980  3s0878  Counter({'use': 3, 'obama': 2, 'like': 2, 'ins...             440        38  {'term': 1.0202702702702702, 'used': 1.0202702...    11   \n",
       "56920     TogaLord               They know. That's why they'll do it.  &lt;div class=\"md\"&gt;&lt;p&gt;They know. That...                 0  1447021979   1446993179           NaN     0         False      0  cwsuzm8   NaN  t3_3s0878  t1_cwsuzm8         NaN  t3_3s0878  {u'kind': u'Listing', u'data': {u'modhash': No...  2139  politics  2139  3s0878       Counter({'theyll': 1, 'know': 1, 'that': 1})              36         3  {'theyll': 1.2142857142857142, 'know': 1.21428...     9   \n",
       "56921      dzrtguy  Then we'll build a new internet with cocaine a...  &lt;div class=\"md\"&gt;&lt;p&gt;Then we&amp;#39...                 0  1447030760   1447001960           NaN     0         False      0  cwsz8ng   NaN  t3_3s0878  t1_cwsz8ng         NaN  t3_3s0878  {u'kind': u'Listing', u'data': {u'modhash': No...    49  politics    49  3s0878  Counter({'encrypt': 1, 'well': 1, 'cocain': 1,...              73         7  {'hookers': 1.125, 'encryption': 1.125, 'cocai...    11   \n",
       "56922     No_Fence  Some fun quotes regarding the TPP: \\n\\n“The ma...  &lt;div class=\"md\"&gt;&lt;p&gt;Some fun quotes...                 0  1447024523   1446995723           NaN     0         False      0  cwsw0ul   NaN  t3_3s0878  t1_cwsw0ul         NaN  t3_3s0878  {u'kind': u'Listing', u'data': {u'modhash': No...   888  politics   888  3s0878  Counter({'tpp': 7, 'trade': 3, 'corpor': 3, '\\...            1374       105  {'rights': 1.0140845070422535, 'wall': 1.01408...    10   \n",
       "56923   lanadapter  Apparently this bill is so bad it actually cam...  &lt;div class=\"md\"&gt;&lt;p&gt;Apparently this...                 0  1447029320   1447000520           NaN     0         False      0  cwsyehh   NaN  t3_3s0878  t1_cwsyehh         NaN  t3_3s0878  {u'kind': u'Listing', u'data': {u'modhash': No...   142  politics   142  3s0878  Counter({'life': 1, 'actual': 1, 'bill': 1, 's...              96         8  {'life': 1.088235294117647, 'started': 1.08823...    11   \n",
       "\n",
       "                                              token_body                                     token_sentence over500  norm_ups  normscore  GoodComment  \n",
       "56919  [start, calling, conservative, radio, complain...  start calling conservative radio complaining o...    good         0   0.210320            1  \n",
       "56920                                         [know, ll]                                            know ll    good         0   0.437708            1  \n",
       "56921  [ll, build, new, internet, cocaine, hookers, e...   ll build new internet cocaine hookers encryption     bad         0   0.027663            0  \n",
       "56922  [fun, quotes, regarding, tpp, majority, congre...  fun quotes regarding tpp majority congress kep...    good         0   0.192270            1  \n",
       "56923  [apparently, bill, bad, actually, came, life, ...  apparently bill bad actually came life started...     bad         0   0.045909            0  "
      ]
     },
     "execution_count": 107,
     "metadata": {},
     "output_type": "execute_result"
    }
   ],
   "source": [
    "politics.head()"
   ]
  },
  {
   "cell_type": "code",
   "execution_count": 108,
   "metadata": {
    "collapsed": false
   },
   "outputs": [],
   "source": [
    "X, y = make_xy(politics)"
   ]
  },
  {
   "cell_type": "code",
   "execution_count": 109,
   "metadata": {
    "collapsed": false
   },
   "outputs": [
    {
     "name": "stdout",
     "output_type": "stream",
     "text": [
      "MN Accuracy: 94.98%\n"
     ]
    }
   ],
   "source": [
    "xtrain, xtest, ytrain, ytest = train_test_split(X, y)\n",
    "clf = MultinomialNB().fit(xtrain, ytrain)\n",
    "print \"MN Accuracy: %0.2f%%\" % (100 * clf.score(xtest, ytest))"
   ]
  },
  {
   "cell_type": "code",
   "execution_count": 110,
   "metadata": {
    "collapsed": false
   },
   "outputs": [
    {
     "name": "stdout",
     "output_type": "stream",
     "text": [
      "Accuracy on training data: 0.95\n",
      "Accuracy on test data:     0.95\n"
     ]
    }
   ],
   "source": [
    "training_accuracy = clf.score(xtrain, ytrain)\n",
    "test_accuracy = clf.score(xtest, ytest)\n",
    "\n",
    "print \"Accuracy on training data: %0.2f\" % (training_accuracy)\n",
    "print \"Accuracy on test data:     %0.2f\" % (test_accuracy)"
   ]
  },
  {
   "cell_type": "code",
   "execution_count": 111,
   "metadata": {
    "collapsed": true
   },
   "outputs": [],
   "source": [
    "itrain, itest = train_test_split(xrange(df.shape[0]), train_size=0.7)\n",
    "mask=np.ones(df.shape[0], dtype='int')\n",
    "mask[itrain]=1\n",
    "mask[itest]=0\n",
    "mask = (mask==1)"
   ]
  },
  {
   "cell_type": "code",
   "execution_count": 112,
   "metadata": {
    "collapsed": true
   },
   "outputs": [],
   "source": [
    "#the grid of parameters to search over\n",
    "alphas = [0, .1, 1, 5, 10, 50]\n",
    "min_dfs = [1e-5, 1e-4, 1e-3, 1e-2, 1e-1]\n",
    "\n",
    "#Find the best value for alpha and min_df, and the best classifier\n",
    "best_alpha = None\n",
    "best_min_df = None\n",
    "maxscore=-np.inf\n",
    "for alpha in alphas:\n",
    "    for min_df in min_dfs:         \n",
    "        vectorizer = TfidfVectorizer(min_df = min_df)       \n",
    "        Xthis, ythis = make_xy(df, vectorizer)\n",
    "        Xtrainthis=Xthis[mask]\n",
    "        ytrainthis=ythis[mask]\n",
    "        #your code here\n",
    "        clf = MultinomialNB(alpha=alpha)\n",
    "        cvscore = cv_score(clf, Xtrainthis, ytrainthis, log_likelihood)\n",
    "\n",
    "        if cvscore > maxscore:\n",
    "            maxscore = cvscore\n",
    "            best_alpha, best_min_df = alpha, min_df"
   ]
  },
  {
   "cell_type": "code",
   "execution_count": 113,
   "metadata": {
    "collapsed": false
   },
   "outputs": [
    {
     "name": "stdout",
     "output_type": "stream",
     "text": [
      "alpha: 50.000000\n",
      "min_df: 0.100000\n"
     ]
    }
   ],
   "source": [
    "print \"alpha: %f\" % best_alpha\n",
    "print \"min_df: %f\" % best_min_df"
   ]
  },
  {
   "cell_type": "code",
   "execution_count": 114,
   "metadata": {
    "collapsed": false
   },
   "outputs": [
    {
     "name": "stdout",
     "output_type": "stream",
     "text": [
      "Accuracy on training data: 0.95\n",
      "Accuracy on test data:     0.95\n"
     ]
    }
   ],
   "source": [
    "vectorizer = TfidfVectorizer(min_df=best_min_df)\n",
    "X, y = make_xy(df, vectorizer)\n",
    "xtrain=X[mask]\n",
    "ytrain=y[mask]\n",
    "xtest=X[~mask]\n",
    "ytest=y[~mask]\n",
    "\n",
    "clf = MultinomialNB(alpha=best_alpha).fit(xtrain, ytrain)\n",
    "\n",
    "# Your code here. Print the accuracy on the test and training dataset\n",
    "training_accuracy = clf.score(xtrain, ytrain)\n",
    "test_accuracy = clf.score(xtest, ytest)\n",
    "\n",
    "print \"Accuracy on training data: %0.2f\" % (training_accuracy)\n",
    "print \"Accuracy on test data:     %0.2f\" % (test_accuracy)"
   ]
  },
  {
   "cell_type": "code",
   "execution_count": 115,
   "metadata": {
    "collapsed": false
   },
   "outputs": [
    {
     "name": "stdout",
     "output_type": "stream",
     "text": [
      "[[83687     0]\n",
      " [ 4416     0]]\n"
     ]
    }
   ],
   "source": [
    "from sklearn.metrics import confusion_matrix\n",
    "print confusion_matrix(ytest, clf.predict(xtest))"
   ]
  },
  {
   "cell_type": "code",
   "execution_count": 116,
   "metadata": {
    "collapsed": false
   },
   "outputs": [
    {
     "name": "stdout",
     "output_type": "stream",
     "text": [
      "Good words\t     P(over 100 upvote | word)\n",
      "                like 0.05\n",
      "              people 0.05\n",
      "Bad words\t     P(over 100 upvote | word)\n",
      "                like 0.05\n",
      "              people 0.05\n"
     ]
    }
   ],
   "source": [
    "words = np.array(vectorizer.get_feature_names())\n",
    "\n",
    "x = np.eye(xtest.shape[1])\n",
    "probs = clf.predict_log_proba(x)[:, 0]\n",
    "ind = np.argsort(probs)\n",
    "\n",
    "good_words = words[ind[:10]]\n",
    "bad_words = words[ind[-10:]]\n",
    "\n",
    "good_prob = probs[ind[:10]]\n",
    "bad_prob = probs[ind[-10:]]\n",
    "\n",
    "print \"Good words\\t     P(over 100 upvote | word)\"\n",
    "for w, p in zip(good_words, good_prob):\n",
    "    print \"%20s\" % w, \"%0.2f\" % (1 - np.exp(p))\n",
    "    \n",
    "print \"Bad words\\t     P(over 100 upvote | word)\"\n",
    "for w, p in zip(bad_words, bad_prob):\n",
    "    print \"%20s\" % w, \"%0.2f\" % (1 - np.exp(p))"
   ]
  },
  {
   "cell_type": "code",
   "execution_count": 117,
   "metadata": {
    "collapsed": false
   },
   "outputs": [
    {
     "data": {
      "image/png": "[encoded data removed]",
      "text/plain": [
       "<matplotlib.figure.Figure at 0x6913f6a0>"
      ]
     },
     "metadata": {},
     "output_type": "display_data"
    }
   ],
   "source": [
    "calibration_plot(clf, xtest, ytest)"
   ]
  },
  {
   "cell_type": "markdown",
   "metadata": {},
   "source": [
    "# Reducing the scope did not have much improvements either"
   ]
  },
  {
   "cell_type": "markdown",
   "metadata": {},
   "source": [
    "# LDA"
   ]
  },
  {
   "cell_type": "code",
   "execution_count": 44,
   "metadata": {
    "collapsed": false
   },
   "outputs": [],
   "source": [
    "from sklearn.cross_validation import train_test_split\n",
    "itrain, itest = train_test_split(xrange(politics.shape[0]), train_size=0.7)\n",
    "mask=np.ones(politics.shape[0], dtype='int')\n",
    "mask[itrain]=1\n",
    "mask[itest]=0\n",
    "mask = (mask==1)"
   ]
  },
  {
   "cell_type": "code",
   "execution_count": 45,
   "metadata": {
    "collapsed": true
   },
   "outputs": [],
   "source": [
    "from sklearn.svm import LinearSVC"
   ]
  },
  {
   "cell_type": "code",
   "execution_count": 46,
   "metadata": {
    "collapsed": false
   },
   "outputs": [],
   "source": [
    "lcols=['controversiality', 'created_utc', 'downs', 'gilded', 'comment_length', 'n_tokens', 'time']"
   ]
  },
  {
   "cell_type": "code",
   "execution_count": 47,
   "metadata": {
    "collapsed": false
   },
   "outputs": [],
   "source": [
    "clfsvm=LinearSVC(loss=\"hinge\")\n",
    "Cs=[0.001, 0.01, 0.1, 1.0, 10.0, 100.0]\n",
    "Xmatrix=politics[lcols].values\n",
    "Yresp=politics['ups'].values"
   ]
  },
  {
   "cell_type": "code",
   "execution_count": 48,
   "metadata": {
    "collapsed": false
   },
   "outputs": [],
   "source": [
    "Xmatrix_train=Xmatrix[mask]\n",
    "Xmatrix_test=Xmatrix[~mask]\n",
    "Yresp_train=Yresp[mask]\n",
    "Yresp_test=Yresp[~mask]"
   ]
  },
  {
   "cell_type": "code",
   "execution_count": 50,
   "metadata": {
    "collapsed": false
   },
   "outputs": [
    {
     "data": {
      "text/plain": [
       "(LinearSVC(C=10.0, class_weight=None, dual=True, fit_intercept=True,\n",
       "      intercept_scaling=1, loss='hinge', max_iter=1000, multi_class='ovr',\n",
       "      penalty='l2', random_state=None, tol=0.0001, verbose=0),\n",
       " {'C': 10.0},\n",
       " 0.19377606673083092,\n",
       " [mean: 0.11015, std: 0.09866, params: {'C': 0.001},\n",
       "  mean: 0.13175, std: 0.12260, params: {'C': 0.01},\n",
       "  mean: 0.10705, std: 0.11783, params: {'C': 0.1},\n",
       "  mean: 0.12041, std: 0.14325, params: {'C': 1.0},\n",
       "  mean: 0.19378, std: 0.12268, params: {'C': 10.0},\n",
       "  mean: 0.13250, std: 0.10985, params: {'C': 100.0}])"
      ]
     },
     "execution_count": 50,
     "metadata": {},
     "output_type": "execute_result"
    }
   ],
   "source": [
    "from sklearn.grid_search import GridSearchCV\n",
    "parameters = {\"C\": Cs}\n",
    "fitmodel = GridSearchCV(clfsvm, param_grid=parameters, cv=5, scoring=\"accuracy\")\n",
    "fitmodel.fit(Xmatrix_train, Yresp_train)\n",
    "best = fitmodel.best_params_[\"C\"]\n",
    "fitmodel.best_estimator_, fitmodel.best_params_, fitmodel.best_score_, fitmodel.grid_scores_"
   ]
  },
  {
   "cell_type": "code",
   "execution_count": 51,
   "metadata": {
    "collapsed": false
   },
   "outputs": [
    {
     "data": {
      "text/plain": [
       "0.28617764471057883"
      ]
     },
     "execution_count": 51,
     "metadata": {},
     "output_type": "execute_result"
    }
   ],
   "source": [
    "from sklearn.metrics import accuracy_score\n",
    "clfsvm.fit(Xmatrix_train, Yresp_train)\n",
    "ypred2=clfsvm.predict(Xmatrix_test)\n",
    "accuracy_score(ypred2, Yresp_test)"
   ]
  },
  {
   "cell_type": "code",
   "execution_count": null,
   "metadata": {
    "collapsed": true
   },
   "outputs": [],
   "source": []
  },
  {
   "cell_type": "code",
   "execution_count": null,
   "metadata": {
    "collapsed": true
   },
   "outputs": [],
   "source": []
  }
 ],
 "metadata": {
  "kernelspec": {
   "display_name": "Python 2",
   "language": "python",
   "name": "python2"
  },
  "language_info": {
   "codemirror_mode": {
    "name": "ipython",
    "version": 2
   },
   "file_extension": ".py",
   "mimetype": "text/x-python",
   "name": "python",
   "nbconvert_exporter": "python",
   "pygments_lexer": "ipython2",
   "version": "2.7.10"
  }
 },
 "nbformat": 4,
 "nbformat_minor": 0
}
